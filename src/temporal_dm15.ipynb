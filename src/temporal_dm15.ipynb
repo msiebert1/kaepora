{
 "cells": [
  {
   "cell_type": "code",
   "execution_count": 1,
   "metadata": {},
   "outputs": [],
   "source": [
    "import matplotlib\n",
    "matplotlib.use('qt5agg')\n",
    "import matplotlib.pyplot as plt\n",
    "import time\n",
    "import numpy as np\n",
    "import query_db"
   ]
  },
  {
   "cell_type": "code",
   "execution_count": 2,
   "metadata": {},
   "outputs": [],
   "source": [
    "%load_ext autoreload\n",
    "%autoreload 2"
   ]
  },
  {
   "cell_type": "code",
   "execution_count": 3,
   "metadata": {
    "collapsed": true
   },
   "outputs": [],
   "source": [
    "import matplotlib.gridspec as gridspec\n",
    "import spectral_analysis as sa\n",
    "from scipy.special import erf\n",
    "import datafidelity as df"
   ]
  },
  {
   "cell_type": "code",
   "execution_count": 4,
   "metadata": {
    "collapsed": true
   },
   "outputs": [],
   "source": [
    "def make_colorbar(composites):\n",
    "    params = []\n",
    "    # for comp in composites:\n",
    "    # \tparams.append(np.average(comp.dm15_array[comp.x1:comp.x2]))\n",
    "    # norm = matplotlib.colors.Normalize(vmin=np.min(params),vmax=np.max(params))\n",
    "    norm = matplotlib.colors.Normalize(vmin=1.,vmax=len(composites) + 1.)\n",
    "    c_m = matplotlib.cm.plasma\n",
    "    # c_m = matplotlib.cm.winter_r\n",
    "    s_m = matplotlib.cm.ScalarMappable(cmap=c_m, norm=norm)\n",
    "    s_m.set_array([])\n",
    "\n",
    "    return s_m"
   ]
  },
  {
   "cell_type": "code",
   "execution_count": 5,
   "metadata": {
    "collapsed": true
   },
   "outputs": [],
   "source": [
    "def comparison_plot(composites):\n",
    "\n",
    "#     plt.style.use('ggplot')\n",
    "    colors = [color['color'] for color in list(plt.rcParams['axes.prop_cycle'])]\n",
    "    h = [3,1,1,1,1,1,1]\n",
    "    font = {'family' : 'serif',\n",
    "        'color'  : 'black',\n",
    "        'weight' : 'bold',\n",
    "        'size'   : 10,\n",
    "        }\n",
    "\n",
    "#     gs = gridspec.GridSpec(7, 1, height_ratios=h, hspace = .001)\n",
    "#     fig = plt.figure(num = 1, dpi = 100, figsize = [10,10])\n",
    "    fig = plt.figure(num = 1, dpi = 100, figsize = [10,8])\n",
    "    s_m = make_colorbar(composites)\n",
    "    lw = 3\n",
    "\n",
    "    composites, scales = composite.optimize_scales(composites, composites[0], True)\n",
    "\n",
    "    i = 0\n",
    "    k = 1\n",
    "    for comp in composites:\n",
    "        # param = np.average(comp.dm15_array[comp.x1:comp.x2])\n",
    "        param = k\n",
    "\n",
    "#         rel_flux = plt.subplot(gs[0])\n",
    "        rel_flux = plt.subplot(111)\n",
    "#         plt.setp(rel_flux.get_xticklabels(), visible=False)\n",
    "        plt.ylabel('Relative Flux', fontdict = font)\n",
    "        rel_flux.axes.get_yaxis().set_ticks([])\n",
    "        # plt.plot(comp.wavelength[comp.x1:comp.x2], comp.flux[comp.x1:comp.x2], color = s_m.to_rgba(param))\n",
    "        plt.plot(comp.wavelength[comp.x1:comp.x2], comp.flux[comp.x1:comp.x2], linewidth = lw, color = s_m.to_rgba(param))\n",
    "        if len(comp.low_conf) > 0 and len(comp.up_conf) > 0:\n",
    "            plt.fill_between(comp.wavelength[comp.x1:comp.x2], comp.low_conf[comp.x1:comp.x2], \n",
    "                             comp.up_conf[comp.x1:comp.x2], color = s_m.to_rgba(param), alpha = 0.5)\n",
    "            # plt.fill_between(comp.wavelength[comp.x1:comp.x2], comp.low_conf[comp.x1:comp.x2], \n",
    "            # \t             comp.up_conf[comp.x1:comp.x2], color = colors[i%len(colors)], alpha = 0.5)\n",
    "\n",
    "#         var = plt.subplot(gs[1], sharex = rel_flux)\n",
    "#         plt.setp(var.get_xticklabels(), visible=False)\n",
    "#         plt.ylabel('Variance', fontdict = font)\n",
    "#         # plt.plot(comp.wavelength[comp.x1:comp.x2], comp.ivar[comp.x1:comp.x2], color = s_m.to_rgba(param))\n",
    "#         plt.plot(comp.wavelength[comp.x1:comp.x2], comp.ivar[comp.x1:comp.x2], linewidth = lw, color = s_m.to_rgba(param))\n",
    "\n",
    "#         res = plt.subplot(gs[2], sharex = rel_flux)\n",
    "#         plt.setp(res.get_xticklabels(), visible=False)\n",
    "#         plt.ylabel('Residuals', fontdict = font)\n",
    "#         # plt.plot(comp.wavelength[comp.x1:comp.x2], comp.flux[comp.x1:comp.x2] - composites[0].flux[comp.x1:comp.x2], color = s_m.to_rgba(param))\n",
    "#         plt.plot(comp.wavelength[comp.x1:comp.x2], comp.flux[comp.x1:comp.x2] - composites[0].flux[comp.x1:comp.x2], linewidth = lw, color = s_m.to_rgba(param))\n",
    "#         if len(comp.low_conf) > 0 and len(comp.up_conf) > 0:\n",
    "#             low_resid = comp.low_conf[comp.x1:comp.x2] - composites[0].flux[comp.x1:comp.x2]\n",
    "#             up_resid = comp.up_conf[comp.x1:comp.x2] - composites[0].flux[comp.x1:comp.x2]\n",
    "#             plt.fill_between(comp.wavelength[comp.x1:comp.x2], low_resid, up_resid, color = s_m.to_rgba(param), alpha = 0.5)\n",
    "#             # plt.fill_between(comp.wavelength[comp.x1:comp.x2], low_resid, up_resid, color = colors[i%len(colors)], alpha = 0.5)\n",
    "\n",
    "#         spec = plt.subplot(gs[3], sharex = rel_flux)\n",
    "#         plt.setp(spec.get_xticklabels(), visible=False)\n",
    "#         plt.ylabel('Spectra/Bin', fontdict = font)\n",
    "#         # plt.plot(comp.wavelength[comp.x1:comp.x2], comp.spec_bin[comp.x1:comp.x2], color = s_m.to_rgba(param))\n",
    "#         plt.plot(comp.wavelength[comp.x1:comp.x2], comp.spec_bin[comp.x1:comp.x2], linewidth = lw, color = s_m.to_rgba(param))\n",
    "\n",
    "#         phase = plt.subplot(gs[4], sharex = rel_flux)\n",
    "#         plt.setp(phase.get_xticklabels(), visible=False)\n",
    "#         plt.ylabel('Phase [d]', fontdict = font)\n",
    "#         # plt.plot(comp.wavelength[comp.x1:comp.x2], comp.phase_array[comp.x1:comp.x2], color = s_m.to_rgba(param))\n",
    "#         plt.plot(comp.wavelength[comp.x1:comp.x2], comp.phase_array[comp.x1:comp.x2], linewidth = lw, color = s_m.to_rgba(param))\n",
    "\n",
    "#         delt = plt.subplot(gs[5], sharex = rel_flux)\n",
    "#         plt.setp(delt.get_xticklabels(), visible=False)\n",
    "#         plt.ylabel('$\\Delta$m$_{15}$', fontdict = font)\n",
    "#         # plt.plot(comp.wavelength[comp.x1:comp.x2], comp.dm15[comp.x1:comp.x2], color = s_m.to_rgba(param))\n",
    "#         plt.plot(comp.wavelength[comp.x1:comp.x2], comp.dm15[comp.x1:comp.x2], linewidth = lw, color = s_m.to_rgba(param))\n",
    "\n",
    "#         plt.subplot(gs[6], sharex = rel_flux)\n",
    "#         plt.ylabel('Redshift', fontdict = font)\n",
    "#         # plt.plot(comp.wavelength[comp.x1:comp.x2], comp.red_array[comp.x1:comp.x2], color = s_m.to_rgba(param))\n",
    "#         plt.plot(comp.wavelength[comp.x1:comp.x2], comp.red_array[comp.x1:comp.x2], linewidth = lw, color = s_m.to_rgba(param))\n",
    "\n",
    "        i+=1\n",
    "        k+=1\n",
    "\n",
    "    plt.xlabel( 'Wavelength ' + \"($\\mathrm{\\AA}$)\", fontdict = font)\n",
    "    # cb = plt.colorbar(s_m, ax = fig.axes)\n",
    "    # cb.set_label('Phase', fontdict = font)\n",
    "    # for ax in fig.axes:\n",
    "    # \tax.set_axis_bgcolor('white')\n",
    "\n",
    "    plt.show()"
   ]
  },
  {
   "cell_type": "code",
   "execution_count": null,
   "metadata": {
    "collapsed": true
   },
   "outputs": [],
   "source": [
    "query_strings_low_dm15 = [\"SELECT * from Supernovae inner join Photometry ON Supernovae.SN = Photometry.SN and phase < -7 and (dm15_cfa <= 1.16 or dm15_from_fits <= 1.16)\",\n",
    "                          \"SELECT * from Supernovae inner join Photometry ON Supernovae.SN = Photometry.SN and phase >= -7 and phase < -4 and (dm15_cfa <= 1.16 or dm15_from_fits <= 1.16)\",\n",
    "                          \"SELECT * from Supernovae inner join Photometry ON Supernovae.SN = Photometry.SN and phase >= -4 and phase < -2 and (dm15_cfa <= 1.16 or dm15_from_fits <= 1.16)\",\n",
    "                          \"SELECT * from Supernovae inner join Photometry ON Supernovae.SN = Photometry.SN and phase >= -2 and phase < -1 and (dm15_cfa <= 1.16 or dm15_from_fits <= 1.16)\",\n",
    "                          \"SELECT * from Supernovae inner join Photometry ON Supernovae.SN = Photometry.SN and phase >= -1 and phase < 0 and (dm15_cfa <= 1.16 or dm15_from_fits <= 1.16)\",\n",
    "                          \"SELECT * from Supernovae inner join Photometry ON Supernovae.SN = Photometry.SN and phase >= 0 and phase < 1 and (dm15_cfa <= 1.16 or dm15_from_fits <= 1.16)\",\n",
    "                          \"SELECT * from Supernovae inner join Photometry ON Supernovae.SN = Photometry.SN and phase >= 1 and phase < 2 and (dm15_cfa <= 1.16 or dm15_from_fits <= 1.16)\",\n",
    "                          \"SELECT * from Supernovae inner join Photometry ON Supernovae.SN = Photometry.SN and phase >= 2 and phase < 3 and (dm15_cfa <= 1.16 or dm15_from_fits <= 1.16)\",\n",
    "                          \"SELECT * from Supernovae inner join Photometry ON Supernovae.SN = Photometry.SN and phase >= 3 and phase < 4 and (dm15_cfa <= 1.16 or dm15_from_fits <= 1.16)\",\n",
    "                          \"SELECT * from Supernovae inner join Photometry ON Supernovae.SN = Photometry.SN and phase >= 4 and phase < 5 and (dm15_cfa <= 1.16 or dm15_from_fits <= 1.16)\",\n",
    "                          \"SELECT * from Supernovae inner join Photometry ON Supernovae.SN = Photometry.SN and phase >= 5 and phase < 6 and (dm15_cfa <= 1.16 or dm15_from_fits <= 1.16)\",\n",
    "                          \"SELECT * from Supernovae inner join Photometry ON Supernovae.SN = Photometry.SN and phase >= 6 and phase < 7 and (dm15_cfa <= 1.16 or dm15_from_fits <= 1.16)\",\n",
    "                          \"SELECT * from Supernovae inner join Photometry ON Supernovae.SN = Photometry.SN and phase >= 7 and phase < 8 and (dm15_cfa <= 1.16 or dm15_from_fits <= 1.16)\",\n",
    "                          \"SELECT * from Supernovae inner join Photometry ON Supernovae.SN = Photometry.SN and phase >= 8 and phase < 9 and (dm15_cfa <= 1.16 or dm15_from_fits <= 1.16)\",\n",
    "                          \"SELECT * from Supernovae inner join Photometry ON Supernovae.SN = Photometry.SN and phase >= 9 and phase < 10 and (dm15_cfa <= 1.16 or dm15_from_fits <= 1.16)\",\n",
    "                          \"SELECT * from Supernovae inner join Photometry ON Supernovae.SN = Photometry.SN and phase >= 10 and phase < 11 and (dm15_cfa <= 1.16 or dm15_from_fits <= 1.16)\",\n",
    "                          \"SELECT * from Supernovae inner join Photometry ON Supernovae.SN = Photometry.SN and phase >= 11 and phase < 12 and (dm15_cfa <= 1.16 or dm15_from_fits <= 1.16)\",\n",
    "                          \"SELECT * from Supernovae inner join Photometry ON Supernovae.SN = Photometry.SN and phase >= 12 and phase < 14 and (dm15_cfa <= 1.16 or dm15_from_fits <= 1.16)\",\n",
    "                          \"SELECT * from Supernovae inner join Photometry ON Supernovae.SN = Photometry.SN and phase >= 14 and phase < 16 and (dm15_cfa <= 1.16 or dm15_from_fits <= 1.16)\",\n",
    "                          \"SELECT * from Supernovae inner join Photometry ON Supernovae.SN = Photometry.SN and phase >= 16 and phase < 18 and (dm15_cfa <= 1.16 or dm15_from_fits <= 1.16)\",\n",
    "                          \"SELECT * from Supernovae inner join Photometry ON Supernovae.SN = Photometry.SN and phase >= 18 and phase < 20 and (dm15_cfa <= 1.16 or dm15_from_fits <= 1.16)\",\n",
    "                          \"SELECT * from Supernovae inner join Photometry ON Supernovae.SN = Photometry.SN and phase >= 20 and phase < 22 and (dm15_cfa <= 1.16 or dm15_from_fits <= 1.16)\",\n",
    "                          \"SELECT * from Supernovae inner join Photometry ON Supernovae.SN = Photometry.SN and phase >= 22 and phase < 25 and (dm15_cfa <= 1.16 or dm15_from_fits <= 1.16)\",\n",
    "                          \"SELECT * from Supernovae inner join Photometry ON Supernovae.SN = Photometry.SN and phase >= 25 and phase < 28 and (dm15_cfa <= 1.16 or dm15_from_fits <= 1.16)\",\n",
    "                          \"SELECT * from Supernovae inner join Photometry ON Supernovae.SN = Photometry.SN and phase >= 28 and phase < 31 and (dm15_cfa <= 1.16 or dm15_from_fits <= 1.16)\",\n",
    "                          \"SELECT * from Supernovae inner join Photometry ON Supernovae.SN = Photometry.SN and phase >= 31 and phase < 34 and (dm15_cfa <= 1.16 or dm15_from_fits <= 1.16)\",\n",
    "                          \"SELECT * from Supernovae inner join Photometry ON Supernovae.SN = Photometry.SN and phase >= 34 and phase < 39 and (dm15_cfa <= 1.16 or dm15_from_fits <= 1.16)\",\n",
    "                          \"SELECT * from Supernovae inner join Photometry ON Supernovae.SN = Photometry.SN and phase >= 39 and phase < 49 and (dm15_cfa <= 1.16 or dm15_from_fits <= 1.16)\",\n",
    "                          \"SELECT * from Supernovae inner join Photometry ON Supernovae.SN = Photometry.SN and phase >= 49 and phase < 70 and (dm15_cfa <= 1.16 or dm15_from_fits <= 1.16)\",\n",
    "                          \"SELECT * from Supernovae inner join Photometry ON Supernovae.SN = Photometry.SN and phase >= 70 and phase < 110 and (dm15_cfa <= 1.16 or dm15_from_fits <= 1.16)\",\n",
    "                          \"SELECT * from Supernovae inner join Photometry ON Supernovae.SN = Photometry.SN and phase >= 110 and (dm15_cfa <= 1.16 or dm15_from_fits <= 1.16)\"\n",
    "                         ]"
   ]
  },
  {
   "cell_type": "code",
   "execution_count": null,
   "metadata": {
    "collapsed": true
   },
   "outputs": [],
   "source": [
    "query_strings_high_dm15 = [\"SELECT * from Supernovae inner join Photometry ON Supernovae.SN = Photometry.SN and phase < -7 and (dm15_cfa > 1.16 or dm15_from_fits > 1.16)\",\n",
    "                          \"SELECT * from Supernovae inner join Photometry ON Supernovae.SN = Photometry.SN and phase >= -7 and phase < -4 and (dm15_cfa > 1.16 or dm15_from_fits > 1.16)\",\n",
    "                          \"SELECT * from Supernovae inner join Photometry ON Supernovae.SN = Photometry.SN and phase >= -4 and phase < -2 and (dm15_cfa > 1.16 or dm15_from_fits > 1.16)\",\n",
    "                          \"SELECT * from Supernovae inner join Photometry ON Supernovae.SN = Photometry.SN and phase >= -2 and phase < -1 and (dm15_cfa > 1.16 or dm15_from_fits > 1.16)\",\n",
    "                          \"SELECT * from Supernovae inner join Photometry ON Supernovae.SN = Photometry.SN and phase >= -1 and phase < 0 and (dm15_cfa > 1.16 or dm15_from_fits > 1.16)\",\n",
    "                          \"SELECT * from Supernovae inner join Photometry ON Supernovae.SN = Photometry.SN and phase >= 0 and phase < 1 and (dm15_cfa > 1.16 or dm15_from_fits > 1.16)\",\n",
    "                          \"SELECT * from Supernovae inner join Photometry ON Supernovae.SN = Photometry.SN and phase >= 1 and phase < 2 and (dm15_cfa > 1.16 or dm15_from_fits > 1.16)\",\n",
    "                          \"SELECT * from Supernovae inner join Photometry ON Supernovae.SN = Photometry.SN and phase >= 2 and phase < 3 and (dm15_cfa > 1.16 or dm15_from_fits > 1.16)\",\n",
    "                          \"SELECT * from Supernovae inner join Photometry ON Supernovae.SN = Photometry.SN and phase >= 3 and phase < 4 and (dm15_cfa > 1.16 or dm15_from_fits > 1.16)\",\n",
    "                          \"SELECT * from Supernovae inner join Photometry ON Supernovae.SN = Photometry.SN and phase >= 4 and phase < 5 and (dm15_cfa > 1.16 or dm15_from_fits > 1.16)\",\n",
    "                          \"SELECT * from Supernovae inner join Photometry ON Supernovae.SN = Photometry.SN and phase >= 5 and phase < 6 and (dm15_cfa > 1.16 or dm15_from_fits > 1.16)\",\n",
    "                          \"SELECT * from Supernovae inner join Photometry ON Supernovae.SN = Photometry.SN and phase >= 6 and phase < 7 and (dm15_cfa > 1.16 or dm15_from_fits > 1.16)\",\n",
    "                          \"SELECT * from Supernovae inner join Photometry ON Supernovae.SN = Photometry.SN and phase >= 7 and phase < 8 and (dm15_cfa > 1.16 or dm15_from_fits > 1.16)\",\n",
    "                          \"SELECT * from Supernovae inner join Photometry ON Supernovae.SN = Photometry.SN and phase >= 8 and phase < 9 and (dm15_cfa > 1.16 or dm15_from_fits > 1.16)\",\n",
    "                          \"SELECT * from Supernovae inner join Photometry ON Supernovae.SN = Photometry.SN and phase >= 9 and phase < 10 and (dm15_cfa > 1.16 or dm15_from_fits > 1.16)\",\n",
    "                          \"SELECT * from Supernovae inner join Photometry ON Supernovae.SN = Photometry.SN and phase >= 10 and phase < 11 and (dm15_cfa > 1.16 or dm15_from_fits > 1.16)\",\n",
    "                          \"SELECT * from Supernovae inner join Photometry ON Supernovae.SN = Photometry.SN and phase >= 11 and phase < 12 and (dm15_cfa > 1.16 or dm15_from_fits > 1.16)\",\n",
    "                          \"SELECT * from Supernovae inner join Photometry ON Supernovae.SN = Photometry.SN and phase >= 12 and phase < 14 and (dm15_cfa > 1.16 or dm15_from_fits > 1.16)\",\n",
    "                          \"SELECT * from Supernovae inner join Photometry ON Supernovae.SN = Photometry.SN and phase >= 14 and phase < 16 and (dm15_cfa > 1.16 or dm15_from_fits > 1.16)\",\n",
    "                          \"SELECT * from Supernovae inner join Photometry ON Supernovae.SN = Photometry.SN and phase >= 16 and phase < 18 and (dm15_cfa > 1.16 or dm15_from_fits > 1.16)\",\n",
    "                          \"SELECT * from Supernovae inner join Photometry ON Supernovae.SN = Photometry.SN and phase >= 18 and phase < 20 and (dm15_cfa > 1.16 or dm15_from_fits > 1.16)\",\n",
    "                          \"SELECT * from Supernovae inner join Photometry ON Supernovae.SN = Photometry.SN and phase >= 20 and phase < 22 and (dm15_cfa > 1.16 or dm15_from_fits > 1.16)\",\n",
    "                          \"SELECT * from Supernovae inner join Photometry ON Supernovae.SN = Photometry.SN and phase >= 22 and phase < 25 and (dm15_cfa > 1.16 or dm15_from_fits > 1.16)\",\n",
    "                          \"SELECT * from Supernovae inner join Photometry ON Supernovae.SN = Photometry.SN and phase >= 25 and phase < 28 and (dm15_cfa > 1.16 or dm15_from_fits > 1.16)\",\n",
    "                          \"SELECT * from Supernovae inner join Photometry ON Supernovae.SN = Photometry.SN and phase >= 28 and phase < 31 and (dm15_cfa > 1.16 or dm15_from_fits > 1.16)\",\n",
    "                          \"SELECT * from Supernovae inner join Photometry ON Supernovae.SN = Photometry.SN and phase >= 31 and phase < 34 and (dm15_cfa > 1.16 or dm15_from_fits > 1.16)\",\n",
    "                          \"SELECT * from Supernovae inner join Photometry ON Supernovae.SN = Photometry.SN and phase >= 34 and phase < 39 and (dm15_cfa > 1.16 or dm15_from_fits > 1.16)\",\n",
    "                          \"SELECT * from Supernovae inner join Photometry ON Supernovae.SN = Photometry.SN and phase >= 39 and phase < 49 and (dm15_cfa > 1.16 or dm15_from_fits > 1.16)\",\n",
    "                          \"SELECT * from Supernovae inner join Photometry ON Supernovae.SN = Photometry.SN and phase >= 49 and phase < 70 and (dm15_cfa > 1.16 or dm15_from_fits > 1.16)\",\n",
    "                          \"SELECT * from Supernovae inner join Photometry ON Supernovae.SN = Photometry.SN and phase >= 70 and phase < 110 and (dm15_cfa > 1.16 or dm15_from_fits > 1.16)\",\n",
    "                         ]"
   ]
  },
  {
   "cell_type": "code",
   "execution_count": null,
   "metadata": {},
   "outputs": [],
   "source": [
    "comps_low_dm15 = query_db.main(len(query_strings_low_dm15), query_strings_low_dm15)\n",
    "comps_high_dm15 = query_db.main(len(query_strings_high_dm15), query_strings_high_dm15)"
   ]
  },
  {
   "cell_type": "code",
   "execution_count": 8,
   "metadata": {
    "collapsed": true
   },
   "outputs": [],
   "source": [
    "def stacked_plot(comps_low, comps_high):\n",
    "    fig, ax = plt.subplots(1,1)\n",
    "    ax.get_yaxis().set_ticks([])\n",
    "    plt.ylabel('Relative Flux + const.')\n",
    "    plt.xlabel('Wavelength (A)')\n",
    "    fig.set_size_inches(8.5, 11.)\n",
    "#     comps_low, scales = composite.optimize_scales(comps_low, comps_low[0], True)\n",
    "#     comps_high, scales = composite.optimize_scales(comps_high, comps_high[0], True)\n",
    "    upper_buff = 100\n",
    "\n",
    "    for i in range(len(comps_low)):\n",
    "#         scaled_comps, scales = composite.optimize_scales([comps_low[i], comps_high[i]], comps_low[i], True)\n",
    "        phase_1 = np.average(scaled_comps[0].phase_array[scaled_comps[0].x1:scaled_comps[0].x2])\n",
    "        phase_2 = np.average(scaled_comps[1].phase_array[scaled_comps[1].x1:scaled_comps[1].x2])\n",
    "        phase = (phase_1 + phase_2)/2.\n",
    "        ax.plot(scaled_comps[0].wavelength[scaled_comps[0].x1:scaled_comps[0].x2], 2.e15*scaled_comps[0].flux[scaled_comps[0].x1:scaled_comps[0].x2] + upper_buff - 3.*phase, 'b-')\n",
    "        ax.plot(scaled_comps[1].wavelength[scaled_comps[1].x1:scaled_comps[1].x2], 2.e15*scaled_comps[1].flux[scaled_comps[1].x1:scaled_comps[1].x2] + upper_buff - 3.*phase, 'r-')\n",
    "#         plt.fill_between(scaled_comps[0].wavelength[scaled_comps[0].x1:scaled_comps[0].x2], 2.e15*scaled_comps[0].low_conf[scaled_comps[0].x1:scaled_comps[0].x2] + upper_buff - 3.*phase, 2.e15*scaled_comps[0].up_conf[scaled_comps[0].x1:scaled_comps[0].x2] + upper_buff - 3.*phase, alpha = 0.5)\n",
    "#         plt.fill_between(scaled_comps[1].wavelength[scaled_comps[1].x1:scaled_comps[1].x2], 2.e15*scaled_comps[1].low_conf[scaled_comps[1].x1:scaled_comps[1].x2] + upper_buff - 3.*phase, 2.e15*scaled_comps[1].up_conf[scaled_comps[1].x1:scaled_comps[1].x2] + upper_buff - 3.*phase, color = 'r', alpha = 0.5)\n",
    "        plt.text(scaled_comps[0].wavelength[scaled_comps[0].x2], scaled_comps[0].flux[scaled_comps[0].x2] + upper_buff - 3.*phase + 1, str(round(phase, 2)) + ' days')\n",
    "    plt.show()"
   ]
  },
  {
   "cell_type": "code",
   "execution_count": 7,
   "metadata": {
    "collapsed": true
   },
   "outputs": [],
   "source": [
    "import composite"
   ]
  },
  {
   "cell_type": "code",
   "execution_count": null,
   "metadata": {},
   "outputs": [],
   "source": [
    "query_db.set_min_num_spec(comps_low_dm15, 5)\n",
    "query_db.set_min_num_spec(comps_high_dm15, 5)"
   ]
  },
  {
   "cell_type": "code",
   "execution_count": null,
   "metadata": {},
   "outputs": [],
   "source": [
    "sub_list_1_low = comps_low_dm15[0:6]\n",
    "sub_list_2_low = comps_low_dm15[6:12]\n",
    "sub_list_3_low = comps_low_dm15[12:18]\n",
    "sub_list_4_low = comps_low_dm15[18:24]\n",
    "sub_list_5_low = comps_low_dm15[24:28]\n",
    "sub_list_6_low = comps_low_dm15[28:30]\n",
    "sub_list_7_low = comps_low_dm15[30:]\n",
    "\n",
    "sub_list_1_high = comps_high_dm15[0:6]\n",
    "sub_list_2_high = comps_high_dm15[6:12]\n",
    "sub_list_3_high = comps_high_dm15[12:18]\n",
    "sub_list_4_high = comps_high_dm15[18:24]\n",
    "sub_list_5_high = comps_high_dm15[24:28]\n",
    "sub_list_6_high = comps_high_dm15[28:30]\n",
    "sub_list_7_high = comps_high_dm15[30:]"
   ]
  },
  {
   "cell_type": "code",
   "execution_count": null,
   "metadata": {},
   "outputs": [],
   "source": [
    "stacked_plot(sub_list_1_low, sub_list_1_high)"
   ]
  },
  {
   "cell_type": "code",
   "execution_count": null,
   "metadata": {
    "collapsed": true
   },
   "outputs": [],
   "source": [
    "stacked_plot(sub_list_2_low, sub_list_2_high)"
   ]
  },
  {
   "cell_type": "code",
   "execution_count": null,
   "metadata": {
    "collapsed": true
   },
   "outputs": [],
   "source": [
    "stacked_plot(sub_list_3_low, sub_list_3_high)"
   ]
  },
  {
   "cell_type": "code",
   "execution_count": null,
   "metadata": {
    "collapsed": true
   },
   "outputs": [],
   "source": [
    "stacked_plot(sub_list_4_low, sub_list_4_high)"
   ]
  },
  {
   "cell_type": "code",
   "execution_count": null,
   "metadata": {},
   "outputs": [],
   "source": [
    "stacked_plot(sub_list_5_low, sub_list_5_high)"
   ]
  },
  {
   "cell_type": "code",
   "execution_count": null,
   "metadata": {},
   "outputs": [],
   "source": [
    "stacked_plot(sub_list_6_low, sub_list_6_high)"
   ]
  },
  {
   "cell_type": "code",
   "execution_count": null,
   "metadata": {},
   "outputs": [],
   "source": [
    "stacked_plot(sub_list_7_low, sub_list_7_high)"
   ]
  },
  {
   "cell_type": "markdown",
   "metadata": {},
   "source": [
    "# Maximum Light - Max Bins"
   ]
  },
  {
   "cell_type": "code",
   "execution_count": 8,
   "metadata": {},
   "outputs": [],
   "source": [
    "query_dm15_split_max = [\"SELECT * from Spectra inner join Events ON Spectra.SN = Events.SN where phase >= -3 and phase <= 3 and (dm15_cfa < .9 or dm15_from_fits < .9)\",\n",
    "                        \"SELECT * from Spectra inner join Events ON Spectra.SN = Events.SN where phase >= -3 and phase <= 3 and ((dm15_cfa >= .9 and dm15_cfa < 1.) or (dm15_from_fits >= .9 and dm15_from_fits < 1))\",\n",
    "                        \"SELECT * from Spectra inner join Events ON Spectra.SN = Events.SN where phase >= -3 and phase <= 3 and ((dm15_cfa >= 1 and dm15_cfa < 1.05) or (dm15_from_fits >= 1 and dm15_from_fits < 1.05))\",\n",
    "                        \"SELECT * from Spectra inner join Events ON Spectra.SN = Events.SN where phase >= -3 and phase <= 3 and ((dm15_cfa >= 1.05 and dm15_cfa < 1.1) or (dm15_from_fits >= 1.05 and dm15_from_fits < 1.1))\",\n",
    "                        \"SELECT * from Spectra inner join Events ON Spectra.SN = Events.SN where phase >= -3 and phase <= 3 and ((dm15_cfa >= 1.1 and dm15_cfa < 1.2) or (dm15_from_fits >= 1.1 and dm15_from_fits < 1.2))\",\n",
    "                        \"SELECT * from Spectra inner join Events ON Spectra.SN = Events.SN where phase >= -3 and phase <= 3 and ((dm15_cfa >= 1.2 and dm15_cfa < 1.3) or (dm15_from_fits >= 1.2 and dm15_from_fits < 1.3))\", \n",
    "                        \"SELECT * from Spectra inner join Events ON Spectra.SN = Events.SN where phase >= -3 and phase <= 3 and ((dm15_cfa >= 1.3 and dm15_cfa < 1.4) or (dm15_from_fits >= 1.3 and dm15_from_fits < 1.4))\", \n",
    "                        \"SELECT * from Spectra inner join Events ON Spectra.SN = Events.SN where phase >= -3 and phase <= 3 and ((dm15_cfa >= 1.4 and dm15_cfa < 1.6) or (dm15_from_fits >= 1.4 and dm15_from_fits < 1.6))\",\n",
    "                        \"SELECT * from Spectra inner join Events ON Spectra.SN = Events.SN where phase >= -3 and phase <= 3 and (dm15_cfa >= 1.6 or dm15_from_fits >= 1.6)\"\n",
    "                       ]"
   ]
  },
  {
   "cell_type": "code",
   "execution_count": null,
   "metadata": {},
   "outputs": [],
   "source": [
    "comps_dm15_split_max, sn_arrays, boot_sn_arrays = query_db.main(len(query_dm15_split_max), query_dm15_split_max,verbose=False, gini_balance=True)"
   ]
  },
  {
   "cell_type": "code",
   "execution_count": 6,
   "metadata": {},
   "outputs": [],
   "source": [
    "def stacked_plot_max(composites,buff,label_buff):\n",
    "    font1 = {'family' : 'serif',\n",
    "        'color'  : 'black',\n",
    "        'weight' : 'bold',\n",
    "        'size'   : 20,\n",
    "        }\n",
    "    \n",
    "    font2 = {'family' : 'serif',\n",
    "        'color'  : 'black',\n",
    "        'weight' : 'bold',\n",
    "        'size'   : 10,\n",
    "        }\n",
    "    \n",
    "    fig, ax = plt.subplots(1,1)\n",
    "    fig.set_size_inches(15, 30, forward = True)\n",
    "    ax.get_yaxis().set_ticks([])\n",
    "    ax.xaxis.set_tick_params(length=10, width = 2)\n",
    "    plt.ylabel('Relative Flux + const.', fontdict = font1, fontsize = 40)\n",
    "    plt.xlabel( 'Wavelength ' + \"($\\mathrm{\\AA}$)\", fontdict = font1, fontsize = 40)\n",
    "    plt.xticks(fontsize = 20)\n",
    "#     composites, scales = composite.optimize_scales(composites, composites[0], True)\n",
    "\n",
    "    i = 0\n",
    "    for comp in composites:\n",
    "        dm15 = np.nanmean(comp.dm15_array[comp.x1:comp.x2])\n",
    "#         ax.plot(comp.wavelength[comp.x1:comp.x2], 2.e15*comp.flux[comp.x1:comp.x2] - 1200*dm15, color = '#3F5D7D', linewidth = 4)\n",
    "        ax.plot(comp.wavelength[comp.x1:comp.x2], comp.flux[comp.x1:comp.x2] - i, color = '#3F5D7D', linewidth = 4)\n",
    "#         plt.fill_between(comp.wavelength[comp.x1:comp.x2], comp.low_conf[comp.x1:comp.x2]- i, comp.up_conf[comp.x1:comp.x2] - i, alpha = 0.5)\n",
    "#         plt.text(9700, comp.flux[comp.x2] - 1200*dm15 + 30, '$\\mathbf{\\Delta m_{15}}$ = ' + str(round(dm15, 2)), fontdict = font1)\n",
    "        plt.text(8000, comp.flux[comp.x2] - i + .1, '$\\mathbf{\\Delta m_{15}}$ = ' + str(round(dm15, 2)), fontdict = font2, fontsize = 30)\n",
    "        i += 1\n",
    "#     plt.title('Maximum Light Composite Spectra \\n for Different Light Curve Shapes', fontdict = font1, fontsize = 40)\n",
    "    plt.xlim([3000,10500])\n",
    "#     plt.savefig('../../Paper_Drafts/dm15_split_max.pdf', dpi = 300, bbox_inches = 'tight')\n",
    "    plt.show()"
   ]
  },
  {
   "cell_type": "code",
   "execution_count": null,
   "metadata": {},
   "outputs": [],
   "source": [
    "# composite.optimize_scales(comps_dm15_split_max, comps_dm15_split_max[0], True)\n",
    "query_db.set_min_num_spec(comps_dm15_split_max, 5)\n",
    "# comparison_plot(comps_dm15_split_max)\n",
    "stacked_plot_max(comps_dm15_split_max, 110, 30)"
   ]
  },
  {
   "cell_type": "markdown",
   "metadata": {},
   "source": [
    "# Maximum Light - Grid Bins"
   ]
  },
  {
   "cell_type": "code",
   "execution_count": 9,
   "metadata": {},
   "outputs": [],
   "source": [
    "query_dm15_max_fewer_bins = [\"SELECT * from Spectra inner join Events ON Spectra.SN = Events.SN where phase >= -3 and phase <= 3 and ((dm15_source < .95 or dm15_from_fits < .95))\",\n",
    "                         \"SELECT * from Spectra inner join Events ON Spectra.SN = Events.SN where phase >= -3 and phase <= 3 and ((dm15_source >= .95 and dm15_source < 1.15) or (dm15_from_fits >= .95 and dm15_from_fits < 1.15))\",\n",
    "                         \"SELECT * from Spectra inner join Events ON Spectra.SN = Events.SN where phase >= -3 and phase <= 3 and ((dm15_source >= 1.15 and dm15_source < 1.25) or (dm15_from_fits >= 1.15 and dm15_from_fits < 1.25))\",\n",
    "                         \"SELECT * from Spectra inner join Events ON Spectra.SN = Events.SN where phase >= -3 and phase <= 3 and ((dm15_source >= 1.25 and dm15_source < 1.5) or (dm15_from_fits >= 1.25 and dm15_from_fits < 1.5))\",\n",
    "                         \"SELECT * from Spectra inner join Events ON Spectra.SN = Events.SN where phase >= -3 and phase <= 3 and ((dm15_source >= 1.5 or dm15_from_fits >= 1.5))\"]\n",
    "# query_dm15_max_fewer_bins = [\"SELECT * from Supernovae inner join Photometry ON Supernovae.SN = Photometry.SN where phase >= -3 and phase <= 3 and (dm15_cfa < .9 or dm15_from_fits < .9)\",\n",
    "#                         \"SELECT * from Supernovae inner join Photometry ON Supernovae.SN = Photometry.SN where phase >= -3 and phase <= 3 and ((dm15_cfa >= .9 and dm15_cfa < 1.) or (dm15_from_fits >= .9 and dm15_from_fits < 1))\",\n",
    "#                         \"SELECT * from Supernovae inner join Photometry ON Supernovae.SN = Photometry.SN where phase >= -3 and phase <= 3 and ((dm15_cfa >= 1 and dm15_cfa < 1.05) or (dm15_from_fits >= 1 and dm15_from_fits < 1.05))\",\n",
    "#                         \"SELECT * from Supernovae inner join Photometry ON Supernovae.SN = Photometry.SN where phase >= -3 and phase <= 3 and ((dm15_cfa >= 1.05 and dm15_cfa < 1.1) or (dm15_from_fits >= 1.05 and dm15_from_fits < 1.1))\",\n",
    "#                         \"SELECT * from Supernovae inner join Photometry ON Supernovae.SN = Photometry.SN where phase >= -3 and phase <= 3 and ((dm15_cfa >= 1.1 and dm15_cfa < 1.2) or (dm15_from_fits >= 1.1 and dm15_from_fits < 1.2))\",\n",
    "#                         \"SELECT * from Supernovae inner join Photometry ON Supernovae.SN = Photometry.SN where phase >= -3 and phase <= 3 and ((dm15_cfa >= 1.2 and dm15_cfa < 1.3) or (dm15_from_fits >= 1.2 and dm15_from_fits < 1.3))\", \n",
    "#                         \"SELECT * from Supernovae inner join Photometry ON Supernovae.SN = Photometry.SN where phase >= -3 and phase <= 3 and ((dm15_cfa >= 1.3 and dm15_cfa < 1.4) or (dm15_from_fits >= 1.3 and dm15_from_fits < 1.4))\", \n",
    "#                         \"SELECT * from Supernovae inner join Photometry ON Supernovae.SN = Photometry.SN where phase >= -3 and phase <= 3 and ((dm15_cfa >= 1.4 and dm15_cfa < 1.6) or (dm15_from_fits >= 1.4 and dm15_from_fits < 1.6))\",\n",
    "#                         \"SELECT * from Supernovae inner join Photometry ON Supernovae.SN = Photometry.SN where phase >= -3 and phase <= 3 and (dm15_cfa >= 1.6 or dm15_from_fits >= 1.6)\"]"
   ]
  },
  {
   "cell_type": "code",
   "execution_count": 10,
   "metadata": {
    "scrolled": true
   },
   "outputs": [
    {
     "name": "stdout",
     "output_type": "stream",
     "text": [
      "SQL Query: SELECT * from Spectra inner join Events ON Spectra.SN = Events.SN where phase >= -3 and phase <= 3 and ((dm15_source < .95 or dm15_from_fits < .95))\n",
      "Collecting data...\n",
      "../data/kaepora_v1.db\n",
      "85 Total Spectra found\n",
      "1 flagged spectra removed 84 spectra left\n",
      "0 spectra of peculiar Ias removed 84 spectra left\n",
      "81 spectra of SNe with that have host reddening corrections\n",
      "Arrays cleaned\n",
      "1 spectra may have telluric contamination\n"
     ]
    },
    {
     "name": "stderr",
     "output_type": "stream",
     "text": [
      "composite.py:1223: FutureWarning: comparison to `None` will result in an elementwise object comparison in the future.\n",
      "  if template.RMSE != None:\n",
      "composite.py:1260: RuntimeWarning: divide by zero encountered in divide\n",
      "  error = 1./np.sqrt(template.ivar)\n"
     ]
    },
    {
     "name": "stdout",
     "output_type": "stream",
     "text": [
      "30 total SNe\n",
      "removed spectra of SNe with A_V > 2.0\n",
      "\n",
      "Using 81 spectra of 30 SNe\n"
     ]
    },
    {
     "name": "stderr",
     "output_type": "stream",
     "text": [
      "gini.py:43: RuntimeWarning: invalid value encountered in absolute\n",
      "  g_diff = np.absolute(g_wi - g_wj)\n"
     ]
    },
    {
     "name": "stdout",
     "output_type": "stream",
     "text": [
      "Gini balancing...\n",
      "Balanced after 10 iterations\n",
      "Bootstrapping\n",
      "scaling boots...\n",
      "computing confidence intervals...\n",
      "SQL Query: SELECT * from Spectra inner join Events ON Spectra.SN = Events.SN where phase >= -3 and phase <= 3 and ((dm15_source >= .95 and dm15_source < 1.15) or (dm15_from_fits >= .95 and dm15_from_fits < 1.15))\n",
      "Collecting data...\n",
      "../data/kaepora_v1.db\n",
      "199 Total Spectra found\n",
      "12 flagged spectra removed 187 spectra left\n",
      "3 spectra of peculiar Ias removed 184 spectra left\n",
      "158 spectra of SNe with that have host reddening corrections\n",
      "Arrays cleaned\n",
      "2 spectra may have telluric contamination\n",
      "62 total SNe\n",
      "removed spectra of SNe with A_V > 2.0\n",
      "\n",
      "Using 157 spectra of 61 SNe\n"
     ]
    },
    {
     "name": "stderr",
     "output_type": "stream",
     "text": [
      "gini.py:48: RuntimeWarning: invalid value encountered in double_scalars\n",
      "  gini_coeffs.append(gini_num/gini_denom)\n"
     ]
    },
    {
     "name": "stdout",
     "output_type": "stream",
     "text": [
      "Gini balancing...\n",
      "Balanced after 20 iterations\n",
      "Bootstrapping\n",
      "scaling boots...\n"
     ]
    },
    {
     "name": "stderr",
     "output_type": "stream",
     "text": [
      "C:\\Program Files\\Anaconda2\\lib\\site-packages\\scipy\\optimize\\optimize.py:527: RuntimeWarning: invalid value encountered in absolute\n",
      "  if (numpy.max(numpy.ravel(numpy.abs(sim[1:] - sim[0]))) <= xatol and\n"
     ]
    },
    {
     "name": "stdout",
     "output_type": "stream",
     "text": [
      "computing confidence intervals...\n",
      "SQL Query: SELECT * from Spectra inner join Events ON Spectra.SN = Events.SN where phase >= -3 and phase <= 3 and ((dm15_source >= 1.15 and dm15_source < 1.25) or (dm15_from_fits >= 1.15 and dm15_from_fits < 1.25))\n",
      "Collecting data...\n",
      "../data/kaepora_v1.db\n",
      "68 Total Spectra found\n",
      "3 flagged spectra removed 65 spectra left\n",
      "0 spectra of peculiar Ias removed 65 spectra left\n",
      "57 spectra of SNe with that have host reddening corrections\n",
      "Arrays cleaned\n",
      "3 spectra may have telluric contamination\n",
      "18 total SNe\n",
      "removed spectra of SNe with A_V > 2.0\n",
      "\n",
      "Using 48 spectra of 16 SNe\n",
      "Gini balancing...\n",
      "Balanced after 8 iterations\n",
      "Bootstrapping\n",
      "scaling boots...\n",
      "computing confidence intervals...\n",
      "SQL Query: SELECT * from Spectra inner join Events ON Spectra.SN = Events.SN where phase >= -3 and phase <= 3 and ((dm15_source >= 1.25 and dm15_source < 1.5) or (dm15_from_fits >= 1.25 and dm15_from_fits < 1.5))\n",
      "Collecting data...\n",
      "../data/kaepora_v1.db\n",
      "121 Total Spectra found\n",
      "4 flagged spectra removed 117 spectra left\n",
      "0 spectra of peculiar Ias removed 117 spectra left\n",
      "100 spectra of SNe with that have host reddening corrections\n",
      "Arrays cleaned\n",
      "9 spectra may have telluric contamination\n",
      "31 total SNe\n",
      "removed spectra of SNe with A_V > 2.0\n",
      "\n",
      "Using 89 spectra of 29 SNe\n",
      "Gini balancing...\n",
      "Balanced after 12 iterations\n",
      "Bootstrapping\n",
      "scaling boots...\n",
      "computing confidence intervals...\n",
      "SQL Query: SELECT * from Spectra inner join Events ON Spectra.SN = Events.SN where phase >= -3 and phase <= 3 and ((dm15_source >= 1.5 or dm15_from_fits >= 1.5))\n",
      "Collecting data...\n",
      "../data/kaepora_v1.db\n",
      "96 Total Spectra found\n",
      "4 flagged spectra removed 92 spectra left\n",
      "6 spectra of peculiar Ias removed 86 spectra left\n",
      "77 spectra of SNe with that have host reddening corrections\n",
      "Arrays cleaned\n",
      "3 spectra may have telluric contamination\n",
      "28 total SNe\n",
      "removed spectra of SNe with A_V > 2.0\n",
      "\n",
      "Using 77 spectra of 28 SNe\n",
      "Gini balancing...\n",
      "Balanced after 10 iterations\n",
      "Bootstrapping\n",
      "scaling boots...\n",
      "computing confidence intervals...\n"
     ]
    }
   ],
   "source": [
    "comps_dm15_max_fewer_bins, sn_arrays_2, boot_sn_arrays_2 = query_db.main(len(query_dm15_max_fewer_bins), query_dm15_max_fewer_bins, boot=True, medmean=1, verbose=False, gini_balance=True)"
   ]
  },
  {
   "cell_type": "code",
   "execution_count": 11,
   "metadata": {},
   "outputs": [],
   "source": [
    "# composite.optimize_scales(comps_dm15_max_fewer_bins, comps_dm15_max_fewer_bins[0], True)\n",
    "query_db.set_min_num_spec(comps_dm15_max_fewer_bins, 5)\n",
    "# comparison_plot(comps_dm15_max_fewer_bins)\n",
    "temp = [comps_dm15_max_fewer_bins[0], comps_dm15_max_fewer_bins[3]]\n",
    "# comparison_plot(temp)\n",
    "# plt.savefig('../../Paper_Drafts/dm15_max.png', dpi = 300, bbox_inches = 'tight')\n",
    "# query_db.stacked_plot(comps_dm15_max_fewer_bins)"
   ]
  },
  {
   "cell_type": "markdown",
   "metadata": {
    "collapsed": true
   },
   "source": [
    "# Very Early"
   ]
  },
  {
   "cell_type": "code",
   "execution_count": 12,
   "metadata": {
    "collapsed": true
   },
   "outputs": [],
   "source": [
    "query_dm15_very_early = [\"SELECT * from Spectra inner join Events ON Spectra.SN = Events.SN where phase < -10 and ((dm15_source < .95 or dm15_from_fits < .95))\",\n",
    "                         \"SELECT * from Spectra inner join Events ON Spectra.SN = Events.SN where phase < -10 and ((dm15_source >= .95 and dm15_source < 1.1) or (dm15_from_fits >= .95 and dm15_from_fits < 1.1))\",\n",
    "                         \"SELECT * from Spectra inner join Events ON Spectra.SN = Events.SN where phase < -10 and ((dm15_source >= 1.1 or dm15_from_fits >= 1.1))\"]"
   ]
  },
  {
   "cell_type": "code",
   "execution_count": 13,
   "metadata": {
    "scrolled": true
   },
   "outputs": [
    {
     "name": "stdout",
     "output_type": "stream",
     "text": [
      "SQL Query: SELECT * from Spectra inner join Events ON Spectra.SN = Events.SN where phase < -10 and ((dm15_source < .95 or dm15_from_fits < .95))\n",
      "Collecting data...\n",
      "../data/kaepora_v1.db\n",
      "25 Total Spectra found\n",
      "0 flagged spectra removed 25 spectra left\n",
      "0 spectra of peculiar Ias removed 25 spectra left\n",
      "19 spectra of SNe with that have host reddening corrections\n",
      "Arrays cleaned\n",
      "0 spectra may have telluric contamination\n",
      "13 total SNe\n",
      "removed spectra of SNe with A_V > 2.0\n",
      "\n",
      "Using 19 spectra of 13 SNe\n",
      "Gini balancing...\n",
      "Balanced after 4 iterations\n",
      "Bootstrapping\n",
      "scaling boots...\n",
      "computing confidence intervals...\n",
      "SQL Query: SELECT * from Spectra inner join Events ON Spectra.SN = Events.SN where phase < -10 and ((dm15_source >= .95 and dm15_source < 1.1) or (dm15_from_fits >= .95 and dm15_from_fits < 1.1))\n",
      "Collecting data...\n",
      "../data/kaepora_v1.db\n",
      "31 Total Spectra found\n",
      "1 flagged spectra removed 30 spectra left\n",
      "0 spectra of peculiar Ias removed 30 spectra left\n",
      "28 spectra of SNe with that have host reddening corrections\n",
      "Arrays cleaned\n",
      "2 spectra may have telluric contamination\n",
      "12 total SNe\n",
      "removed spectra of SNe with A_V > 2.0\n",
      "\n",
      "Using 28 spectra of 12 SNe\n",
      "Gini balancing...\n",
      "Balanced after 6 iterations\n",
      "Bootstrapping\n",
      "scaling boots...\n",
      "computing confidence intervals...\n",
      "SQL Query: SELECT * from Spectra inner join Events ON Spectra.SN = Events.SN where phase < -10 and ((dm15_source >= 1.1 or dm15_from_fits >= 1.1))\n",
      "Collecting data...\n",
      "../data/kaepora_v1.db\n",
      "38 Total Spectra found\n",
      "0 flagged spectra removed 38 spectra left\n",
      "0 spectra of peculiar Ias removed 38 spectra left\n",
      "38 spectra of SNe with that have host reddening corrections\n",
      "Arrays cleaned\n",
      "6 spectra may have telluric contamination\n",
      "11 total SNe\n",
      "removed spectra of SNe with A_V > 2.0\n",
      "\n",
      "Using 36 spectra of 10 SNe\n",
      "Gini balancing...\n",
      "Balanced after 20 iterations\n",
      "Bootstrapping\n",
      "scaling boots...\n",
      "computing confidence intervals...\n"
     ]
    }
   ],
   "source": [
    "comps_dm15_very_early, sn_arrays, boot_arrays = query_db.main(len(query_dm15_very_early), query_dm15_very_early, boot=True,medmean=1, verbose=False, gini_balance=True)"
   ]
  },
  {
   "cell_type": "code",
   "execution_count": 35,
   "metadata": {},
   "outputs": [],
   "source": [
    "composite.optimize_scales(comps_dm15_very_early, comps_dm15_very_early[0], True)\n",
    "query_db.set_min_num_spec(comps_dm15_very_early, 5)\n",
    "# comparison_plot(comps_dm15_very_early)\n",
    "# stacked_plot_max(comps_dm15_very_early,5,1)"
   ]
  },
  {
   "cell_type": "markdown",
   "metadata": {},
   "source": [
    "# -1 Week"
   ]
  },
  {
   "cell_type": "code",
   "execution_count": 15,
   "metadata": {
    "collapsed": true
   },
   "outputs": [],
   "source": [
    "query_dm15_m1week = [\"SELECT * from Spectra inner join Events ON Spectra.SN = Events.SN where phase >= -9 and phase <= -5 and ((dm15_source < .95 or dm15_from_fits < .95))\",\n",
    "                         \"SELECT * from Spectra inner join Events ON Spectra.SN = Events.SN where phase >= -9 and phase <= -5 and ((dm15_source >= .95 and dm15_source < 1.15) or (dm15_from_fits >= .95 and dm15_from_fits < 1.15))\",\n",
    "                         \"SELECT * from Spectra inner join Events ON Spectra.SN = Events.SN where phase >= -9 and phase <= -5 and ((dm15_source >= 1.15 and dm15_source < 1.25) or (dm15_from_fits >= 1.15 and dm15_from_fits < 1.25))\",\n",
    "                         \"SELECT * from Spectra inner join Events ON Spectra.SN = Events.SN where phase >= -9 and phase <= -5 and ((dm15_source >= 1.25 and dm15_source < 1.5) or (dm15_from_fits >= 1.25 and dm15_from_fits < 1.5))\",\n",
    "                         \"SELECT * from Spectra inner join Events ON Spectra.SN = Events.SN where phase >= -9 and phase <= -5 and ((dm15_source >= 1.5 or dm15_from_fits >= 1.5))\"]"
   ]
  },
  {
   "cell_type": "code",
   "execution_count": 16,
   "metadata": {
    "scrolled": true
   },
   "outputs": [
    {
     "name": "stdout",
     "output_type": "stream",
     "text": [
      "SQL Query: SELECT * from Spectra inner join Events ON Spectra.SN = Events.SN where phase >= -9 and phase <= -5 and ((dm15_source < .95 or dm15_from_fits < .95))\n",
      "Collecting data...\n",
      "../data/kaepora_v1.db\n",
      "70 Total Spectra found\n",
      "1 flagged spectra removed 69 spectra left\n",
      "0 spectra of peculiar Ias removed 69 spectra left\n",
      "67 spectra of SNe with that have host reddening corrections\n",
      "Arrays cleaned\n",
      "0 spectra may have telluric contamination\n",
      "24 total SNe\n",
      "removed spectra of SNe with A_V > 2.0\n",
      "\n",
      "Using 67 spectra of 24 SNe\n",
      "Gini balancing...\n",
      "Balanced after 21 iterations\n",
      "Bootstrapping\n",
      "scaling boots...\n",
      "computing confidence intervals...\n",
      "SQL Query: SELECT * from Spectra inner join Events ON Spectra.SN = Events.SN where phase >= -9 and phase <= -5 and ((dm15_source >= .95 and dm15_source < 1.15) or (dm15_from_fits >= .95 and dm15_from_fits < 1.15))\n",
      "Collecting data...\n",
      "../data/kaepora_v1.db\n",
      "114 Total Spectra found\n",
      "5 flagged spectra removed 109 spectra left\n",
      "0 spectra of peculiar Ias removed 109 spectra left\n",
      "90 spectra of SNe with that have host reddening corrections\n",
      "Arrays cleaned\n",
      "4 spectra may have telluric contamination\n",
      "38 total SNe\n",
      "removed spectra of SNe with A_V > 2.0\n",
      "\n",
      "Using 90 spectra of 37 SNe\n",
      "Gini balancing...\n",
      "Balanced after 15 iterations\n",
      "Bootstrapping\n",
      "scaling boots...\n",
      "computing confidence intervals...\n",
      "SQL Query: SELECT * from Spectra inner join Events ON Spectra.SN = Events.SN where phase >= -9 and phase <= -5 and ((dm15_source >= 1.15 and dm15_source < 1.25) or (dm15_from_fits >= 1.15 and dm15_from_fits < 1.25))\n",
      "Collecting data...\n",
      "../data/kaepora_v1.db\n",
      "33 Total Spectra found\n",
      "0 flagged spectra removed 33 spectra left\n",
      "0 spectra of peculiar Ias removed 33 spectra left\n",
      "30 spectra of SNe with that have host reddening corrections\n",
      "Arrays cleaned\n",
      "4 spectra may have telluric contamination\n",
      "11 total SNe\n",
      "removed spectra of SNe with A_V > 2.0\n",
      "\n",
      "Using 22 spectra of 9 SNe\n",
      "Gini balancing...\n",
      "Balanced after 2 iterations\n",
      "Bootstrapping\n",
      "scaling boots...\n",
      "computing confidence intervals...\n",
      "SQL Query: SELECT * from Spectra inner join Events ON Spectra.SN = Events.SN where phase >= -9 and phase <= -5 and ((dm15_source >= 1.25 and dm15_source < 1.5) or (dm15_from_fits >= 1.25 and dm15_from_fits < 1.5))\n",
      "Collecting data...\n",
      "../data/kaepora_v1.db\n",
      "63 Total Spectra found\n",
      "1 flagged spectra removed 62 spectra left\n",
      "0 spectra of peculiar Ias removed 62 spectra left\n",
      "54 spectra of SNe with that have host reddening corrections\n",
      "Arrays cleaned\n",
      "2 spectra may have telluric contamination\n",
      "16 total SNe\n",
      "removed spectra of SNe with A_V > 2.0\n",
      "\n",
      "Using 49 spectra of 15 SNe\n",
      "Gini balancing...\n",
      "Balanced after 7 iterations\n",
      "Bootstrapping\n",
      "scaling boots...\n",
      "computing confidence intervals...\n",
      "SQL Query: SELECT * from Spectra inner join Events ON Spectra.SN = Events.SN where phase >= -9 and phase <= -5 and ((dm15_source >= 1.5 or dm15_from_fits >= 1.5))\n",
      "Collecting data...\n",
      "../data/kaepora_v1.db\n",
      "31 Total Spectra found\n",
      "0 flagged spectra removed 31 spectra left\n",
      "6 spectra of peculiar Ias removed 25 spectra left\n",
      "19 spectra of SNe with that have host reddening corrections\n",
      "Arrays cleaned\n",
      "0 spectra may have telluric contamination\n",
      "9 total SNe\n",
      "removed spectra of SNe with A_V > 2.0\n",
      "\n",
      "Using 19 spectra of 9 SNe\n",
      "Gini balancing...\n",
      "Balanced after 6 iterations\n",
      "Bootstrapping\n",
      "scaling boots...\n",
      "computing confidence intervals...\n"
     ]
    }
   ],
   "source": [
    "comps_dm15_m1week, sn_arrays, boot_arrays = query_db.main(len(query_dm15_m1week), query_dm15_m1week, boot=True,medmean=1, verbose=False, gini_balance=True)"
   ]
  },
  {
   "cell_type": "code",
   "execution_count": 17,
   "metadata": {},
   "outputs": [],
   "source": [
    "composite.optimize_scales(comps_dm15_m1week, comps_dm15_m1week[0], True)\n",
    "query_db.set_min_num_spec(comps_dm15_m1week, 5)\n",
    "# comparison_plot(comps_dm15_m1week)\n",
    "# stacked_plot_max(comps_dm15_m1week,5,1)"
   ]
  },
  {
   "cell_type": "markdown",
   "metadata": {},
   "source": [
    "# +1 Week"
   ]
  },
  {
   "cell_type": "code",
   "execution_count": 18,
   "metadata": {
    "collapsed": true
   },
   "outputs": [],
   "source": [
    "query_dm15_p1week = [\"SELECT * from Spectra inner join Events ON Spectra.SN = Events.SN where phase >= 5 and phase <= 9 and ((dm15_source < .95 or dm15_from_fits < .95))\",\n",
    "                         \"SELECT * from Spectra inner join Events ON Spectra.SN = Events.SN where phase >= 5 and phase <= 9 and ((dm15_source >= .95 and dm15_source < 1.15) or (dm15_from_fits >= .95 and dm15_from_fits < 1.15))\",\n",
    "                         \"SELECT * from Spectra inner join Events ON Spectra.SN = Events.SN where phase >= 5 and phase <= 9 and ((dm15_source >= 1.15 and dm15_source < 1.25) or (dm15_from_fits >= 1.15 and dm15_from_fits < 1.25))\",\n",
    "                         \"SELECT * from Spectra inner join Events ON Spectra.SN = Events.SN where phase >= 5 and phase <= 9 and ((dm15_source >= 1.25 and dm15_source < 1.5) or (dm15_from_fits >= 1.25 and dm15_from_fits < 1.5))\",\n",
    "                         \"SELECT * from Spectra inner join Events ON Spectra.SN = Events.SN where phase >= 5 and phase <= 9 and ((dm15_source >= 1.5 or dm15_from_fits >= 1.5))\"]"
   ]
  },
  {
   "cell_type": "code",
   "execution_count": 19,
   "metadata": {
    "scrolled": true
   },
   "outputs": [
    {
     "name": "stdout",
     "output_type": "stream",
     "text": [
      "SQL Query: SELECT * from Spectra inner join Events ON Spectra.SN = Events.SN where phase >= 5 and phase <= 9 and ((dm15_source < .95 or dm15_from_fits < .95))\n",
      "Collecting data...\n",
      "../data/kaepora_v1.db\n",
      "67 Total Spectra found\n",
      "0 flagged spectra removed 67 spectra left\n",
      "0 spectra of peculiar Ias removed 67 spectra left\n",
      "57 spectra of SNe with that have host reddening corrections\n",
      "Arrays cleaned\n",
      "0 spectra may have telluric contamination\n",
      "28 total SNe\n",
      "removed spectra of SNe with A_V > 2.0\n",
      "\n",
      "Using 57 spectra of 28 SNe\n",
      "Gini balancing...\n",
      "Balanced after 6 iterations\n",
      "Bootstrapping\n",
      "scaling boots...\n",
      "computing confidence intervals...\n",
      "SQL Query: SELECT * from Spectra inner join Events ON Spectra.SN = Events.SN where phase >= 5 and phase <= 9 and ((dm15_source >= .95 and dm15_source < 1.15) or (dm15_from_fits >= .95 and dm15_from_fits < 1.15))\n",
      "Collecting data...\n",
      "../data/kaepora_v1.db\n",
      "111 Total Spectra found\n",
      "9 flagged spectra removed 102 spectra left\n",
      "4 spectra of peculiar Ias removed 98 spectra left\n",
      "90 spectra of SNe with that have host reddening corrections\n",
      "Arrays cleaned\n",
      "4 spectra may have telluric contamination\n",
      "50 total SNe\n",
      "removed spectra of SNe with A_V > 2.0\n",
      "\n",
      "Using 87 spectra of 49 SNe\n",
      "Gini balancing...\n",
      "Balanced after 13 iterations\n",
      "Bootstrapping\n",
      "scaling boots...\n",
      "computing confidence intervals...\n",
      "SQL Query: SELECT * from Spectra inner join Events ON Spectra.SN = Events.SN where phase >= 5 and phase <= 9 and ((dm15_source >= 1.15 and dm15_source < 1.25) or (dm15_from_fits >= 1.15 and dm15_from_fits < 1.25))\n",
      "Collecting data...\n",
      "../data/kaepora_v1.db\n",
      "43 Total Spectra found\n",
      "2 flagged spectra removed 41 spectra left\n",
      "0 spectra of peculiar Ias removed 41 spectra left\n",
      "40 spectra of SNe with that have host reddening corrections\n",
      "Arrays cleaned\n",
      "2 spectra may have telluric contamination\n",
      "18 total SNe\n",
      "removed spectra of SNe with A_V > 2.0\n",
      "\n",
      "Using 30 spectra of 16 SNe\n",
      "Gini balancing...\n",
      "Balanced after 6 iterations\n",
      "Bootstrapping\n",
      "scaling boots...\n",
      "computing confidence intervals...\n",
      "SQL Query: SELECT * from Spectra inner join Events ON Spectra.SN = Events.SN where phase >= 5 and phase <= 9 and ((dm15_source >= 1.25 and dm15_source < 1.5) or (dm15_from_fits >= 1.25 and dm15_from_fits < 1.5))\n",
      "Collecting data...\n",
      "../data/kaepora_v1.db\n",
      "76 Total Spectra found\n",
      "4 flagged spectra removed 72 spectra left\n",
      "0 spectra of peculiar Ias removed 72 spectra left\n",
      "64 spectra of SNe with that have host reddening corrections\n",
      "Arrays cleaned\n",
      "3 spectra may have telluric contamination\n",
      "28 total SNe\n",
      "removed spectra of SNe with A_V > 2.0\n",
      "\n",
      "Using 60 spectra of 27 SNe\n",
      "Gini balancing...\n",
      "Balanced after 11 iterations\n",
      "Bootstrapping\n",
      "scaling boots...\n",
      "computing confidence intervals...\n",
      "SQL Query: SELECT * from Spectra inner join Events ON Spectra.SN = Events.SN where phase >= 5 and phase <= 9 and ((dm15_source >= 1.5 or dm15_from_fits >= 1.5))\n",
      "Collecting data...\n",
      "../data/kaepora_v1.db\n",
      "49 Total Spectra found\n",
      "4 flagged spectra removed 45 spectra left\n",
      "1 spectra of peculiar Ias removed 44 spectra left\n",
      "36 spectra of SNe with that have host reddening corrections\n",
      "Arrays cleaned\n",
      "0 spectra may have telluric contamination\n",
      "18 total SNe\n",
      "removed spectra of SNe with A_V > 2.0\n",
      "\n",
      "Using 36 spectra of 18 SNe\n",
      "Gini balancing...\n",
      "Balanced after 6 iterations\n",
      "Bootstrapping\n",
      "scaling boots...\n",
      "computing confidence intervals...\n"
     ]
    }
   ],
   "source": [
    "comps_dm15_p1week, sn_arrays, boot_arrays = query_db.main(len(query_dm15_p1week), query_dm15_p1week, boot=True,medmean=1, verbose=False, gini_balance=True)"
   ]
  },
  {
   "cell_type": "code",
   "execution_count": 20,
   "metadata": {},
   "outputs": [],
   "source": [
    "# print comps_dm15_p1week[0].flux\n",
    "# plt.plot(comps_dm15_p1week[0].wavelength, comps_dm15_p1week[0].flux)\n",
    "# plt.show()\n",
    "# composite.optimize_scales(comps_dm15_p1week, comps_dm15_p1week[0], True)\n",
    "query_db.set_min_num_spec(comps_dm15_p1week, 5)\n",
    "# comparison_plot(comps_dm15_p1week)\n",
    "# stacked_plot_max(comps_dm15_p1week,5,1)"
   ]
  },
  {
   "cell_type": "markdown",
   "metadata": {},
   "source": [
    "# +2 Weeks"
   ]
  },
  {
   "cell_type": "code",
   "execution_count": 21,
   "metadata": {
    "collapsed": true
   },
   "outputs": [],
   "source": [
    "query_dm15_p2week = [\"SELECT * from Spectra inner join Events ON Spectra.SN = Events.SN where phase >= 12 and phase <= 16 and ((dm15_source < 1. or dm15_from_fits < 1.))\",\n",
    "                         \"SELECT * from Spectra inner join Events ON Spectra.SN = Events.SN where phase >= 12 and phase <= 16 and ((dm15_source >= 1. and dm15_source < 1.15) or (dm15_from_fits >= 1. and dm15_from_fits < 1.15))\",\n",
    "                         \"SELECT * from Spectra inner join Events ON Spectra.SN = Events.SN where phase >= 12 and phase <= 16 and ((dm15_source >= 1.15 and dm15_source < 1.3) or ((dm15_from_fits >= 1.1 and dm15_from_fits < 1.3)))\",\n",
    "                         \"SELECT * from Spectra inner join Events ON Spectra.SN = Events.SN where phase >= 12 and phase <= 16 and ((dm15_source >= 1.3 and dm15_source < 1.5) or ((dm15_from_fits >= 1.3 and dm15_from_fits < 1.5)))\",\n",
    "                         \"SELECT * from Spectra inner join Events ON Spectra.SN = Events.SN where phase >= 12 and phase <= 16 and ((dm15_source >= 1.5 or dm15_from_fits >= 1.5))\"]"
   ]
  },
  {
   "cell_type": "code",
   "execution_count": 22,
   "metadata": {
    "scrolled": true
   },
   "outputs": [
    {
     "name": "stdout",
     "output_type": "stream",
     "text": [
      "SQL Query: SELECT * from Spectra inner join Events ON Spectra.SN = Events.SN where phase >= 12 and phase <= 16 and ((dm15_source < 1. or dm15_from_fits < 1.))\n",
      "Collecting data...\n",
      "../data/kaepora_v1.db\n",
      "63 Total Spectra found\n",
      "2 flagged spectra removed 61 spectra left\n",
      "1 spectra of peculiar Ias removed 60 spectra left\n",
      "57 spectra of SNe with that have host reddening corrections\n",
      "Arrays cleaned\n",
      "0 spectra may have telluric contamination\n",
      "29 total SNe\n",
      "removed spectra of SNe with A_V > 2.0\n",
      "\n",
      "Using 52 spectra of 27 SNe\n",
      "Gini balancing...\n",
      "Balanced after 5 iterations\n",
      "Bootstrapping\n",
      "scaling boots...\n",
      "computing confidence intervals...\n",
      "SQL Query: SELECT * from Spectra inner join Events ON Spectra.SN = Events.SN where phase >= 12 and phase <= 16 and ((dm15_source >= 1. and dm15_source < 1.15) or (dm15_from_fits >= 1. and dm15_from_fits < 1.15))\n",
      "Collecting data...\n",
      "../data/kaepora_v1.db\n",
      "76 Total Spectra found\n",
      "2 flagged spectra removed 74 spectra left\n",
      "0 spectra of peculiar Ias removed 74 spectra left\n",
      "69 spectra of SNe with that have host reddening corrections\n",
      "Arrays cleaned\n",
      "3 spectra may have telluric contamination\n",
      "42 total SNe\n",
      "removed spectra of SNe with A_V > 2.0\n",
      "\n",
      "Using 69 spectra of 42 SNe\n",
      "Gini balancing...\n",
      "Balanced after 8 iterations\n",
      "Bootstrapping\n",
      "scaling boots...\n",
      "computing confidence intervals...\n",
      "SQL Query: SELECT * from Spectra inner join Events ON Spectra.SN = Events.SN where phase >= 12 and phase <= 16 and ((dm15_source >= 1.15 and dm15_source < 1.3) or ((dm15_from_fits >= 1.1 and dm15_from_fits < 1.3)))\n",
      "Collecting data...\n",
      "../data/kaepora_v1.db\n",
      "44 Total Spectra found\n",
      "2 flagged spectra removed 42 spectra left\n",
      "0 spectra of peculiar Ias removed 42 spectra left\n",
      "41 spectra of SNe with that have host reddening corrections\n",
      "Arrays cleaned\n",
      "4 spectra may have telluric contamination\n",
      "24 total SNe\n",
      "removed spectra of SNe with A_V > 2.0\n",
      "\n",
      "Using 34 spectra of 22 SNe\n",
      "Gini balancing...\n",
      "Balanced after 6 iterations\n",
      "Bootstrapping\n",
      "scaling boots...\n",
      "computing confidence intervals...\n",
      "SQL Query: SELECT * from Spectra inner join Events ON Spectra.SN = Events.SN where phase >= 12 and phase <= 16 and ((dm15_source >= 1.3 and dm15_source < 1.5) or ((dm15_from_fits >= 1.3 and dm15_from_fits < 1.5)))\n",
      "Collecting data...\n",
      "../data/kaepora_v1.db\n",
      "40 Total Spectra found\n",
      "2 flagged spectra removed 38 spectra left\n",
      "0 spectra of peculiar Ias removed 38 spectra left\n",
      "36 spectra of SNe with that have host reddening corrections\n",
      "Arrays cleaned\n",
      "0 spectra may have telluric contamination\n",
      "20 total SNe\n",
      "removed spectra of SNe with A_V > 2.0\n",
      "\n",
      "Using 36 spectra of 20 SNe\n",
      "Gini balancing...\n",
      "Balanced after 9 iterations\n",
      "Bootstrapping\n",
      "scaling boots...\n",
      "computing confidence intervals...\n",
      "SQL Query: SELECT * from Spectra inner join Events ON Spectra.SN = Events.SN where phase >= 12 and phase <= 16 and ((dm15_source >= 1.5 or dm15_from_fits >= 1.5))\n",
      "Collecting data...\n",
      "../data/kaepora_v1.db\n",
      "49 Total Spectra found\n",
      "4 flagged spectra removed 45 spectra left\n",
      "4 spectra of peculiar Ias removed 41 spectra left\n",
      "35 spectra of SNe with that have host reddening corrections\n",
      "Arrays cleaned\n",
      "0 spectra may have telluric contamination\n",
      "16 total SNe\n",
      "removed spectra of SNe with A_V > 2.0\n",
      "\n",
      "Using 35 spectra of 16 SNe\n",
      "Gini balancing...\n",
      "Balanced after 9 iterations\n",
      "Bootstrapping\n",
      "scaling boots...\n",
      "computing confidence intervals...\n"
     ]
    }
   ],
   "source": [
    "comps_dm15_p2week, sn_arrays, boot_arrays = query_db.main(len(query_dm15_p2week), query_dm15_p2week, boot=True,medmean=1, verbose=False, gini_balance=True)"
   ]
  },
  {
   "cell_type": "code",
   "execution_count": 23,
   "metadata": {},
   "outputs": [],
   "source": [
    "composite.optimize_scales(comps_dm15_p2week, comps_dm15_p2week[0], True)\n",
    "query_db.set_min_num_spec(comps_dm15_p2week, 5)\n",
    "# comparison_plot(comps_dm15_p2week)\n",
    "# stacked_plot_max(comps_dm15_p2week,5,1)"
   ]
  },
  {
   "cell_type": "markdown",
   "metadata": {},
   "source": [
    "# +1 Month"
   ]
  },
  {
   "cell_type": "code",
   "execution_count": 24,
   "metadata": {
    "collapsed": true
   },
   "outputs": [],
   "source": [
    "query_dm15_p1month = [\"SELECT * from Spectra inner join Events ON Spectra.SN = Events.SN where phase >= 26 and phase <= 34 and ((dm15_source < .95 or dm15_from_fits < .95))\",\n",
    "                         \"SELECT * from Spectra inner join Events ON Spectra.SN = Events.SN where phase >= 26 and phase <= 34 and ((dm15_source >= .95 and dm15_source < 1.1) or (dm15_from_fits >= .95 and dm15_from_fits < 1.1))\",\n",
    "                         \"SELECT * from Spectra inner join Events ON Spectra.SN = Events.SN where phase >= 26 and phase <= 34 and ((dm15_source >= 1.1 and dm15_source < 1.3) or ((dm15_from_fits >= 1.1 and dm15_from_fits < 1.3)))\",\n",
    "                         \"SELECT * from Spectra inner join Events ON Spectra.SN = Events.SN where phase >= 26 and phase <= 34 and ((dm15_source >= 1.3 and dm15_source < 1.5) or ((dm15_from_fits >= 1.3 and dm15_from_fits < 1.5)))\",\n",
    "                         \"SELECT * from Spectra inner join Events ON Spectra.SN = Events.SN where phase >= 26 and phase <= 34 and ((dm15_source >= 1.5 or dm15_from_fits >= 1.5))\"]"
   ]
  },
  {
   "cell_type": "code",
   "execution_count": 25,
   "metadata": {
    "scrolled": true
   },
   "outputs": [
    {
     "name": "stdout",
     "output_type": "stream",
     "text": [
      "SQL Query: SELECT * from Spectra inner join Events ON Spectra.SN = Events.SN where phase >= 26 and phase <= 34 and ((dm15_source < .95 or dm15_from_fits < .95))\n",
      "Collecting data...\n",
      "../data/kaepora_v1.db\n",
      "45 Total Spectra found\n",
      "0 flagged spectra removed 45 spectra left\n",
      "0 spectra of peculiar Ias removed 45 spectra left\n",
      "45 spectra of SNe with that have host reddening corrections\n",
      "Arrays cleaned\n",
      "0 spectra may have telluric contamination\n",
      "19 total SNe\n",
      "removed spectra of SNe with A_V > 2.0\n",
      "\n",
      "Using 44 spectra of 18 SNe\n",
      "Gini balancing...\n",
      "Balanced after 7 iterations\n",
      "Bootstrapping\n",
      "scaling boots...\n",
      "computing confidence intervals...\n",
      "SQL Query: SELECT * from Spectra inner join Events ON Spectra.SN = Events.SN where phase >= 26 and phase <= 34 and ((dm15_source >= .95 and dm15_source < 1.1) or (dm15_from_fits >= .95 and dm15_from_fits < 1.1))\n",
      "Collecting data...\n",
      "../data/kaepora_v1.db\n",
      "77 Total Spectra found\n",
      "2 flagged spectra removed 75 spectra left\n",
      "3 spectra of peculiar Ias removed 72 spectra left\n",
      "68 spectra of SNe with that have host reddening corrections\n",
      "Arrays cleaned\n",
      "2 spectra may have telluric contamination\n",
      "39 total SNe\n",
      "removed spectra of SNe with A_V > 2.0\n",
      "\n",
      "Using 68 spectra of 39 SNe\n",
      "Gini balancing...\n",
      "Balanced after 22 iterations\n",
      "Bootstrapping\n",
      "scaling boots...\n",
      "computing confidence intervals...\n",
      "SQL Query: SELECT * from Spectra inner join Events ON Spectra.SN = Events.SN where phase >= 26 and phase <= 34 and ((dm15_source >= 1.1 and dm15_source < 1.3) or ((dm15_from_fits >= 1.1 and dm15_from_fits < 1.3)))\n",
      "Collecting data...\n",
      "../data/kaepora_v1.db\n",
      "102 Total Spectra found\n",
      "3 flagged spectra removed 99 spectra left\n",
      "0 spectra of peculiar Ias removed 99 spectra left\n",
      "90 spectra of SNe with that have host reddening corrections\n",
      "Arrays cleaned\n",
      "2 spectra may have telluric contamination\n",
      "45 total SNe\n",
      "removed spectra of SNe with A_V > 2.0\n",
      "\n",
      "Using 76 spectra of 43 SNe\n",
      "Gini balancing...\n",
      "Balanced after 19 iterations\n",
      "Bootstrapping\n",
      "scaling boots...\n",
      "computing confidence intervals...\n",
      "SQL Query: SELECT * from Spectra inner join Events ON Spectra.SN = Events.SN where phase >= 26 and phase <= 34 and ((dm15_source >= 1.3 and dm15_source < 1.5) or ((dm15_from_fits >= 1.3 and dm15_from_fits < 1.5)))\n",
      "Collecting data...\n",
      "../data/kaepora_v1.db\n",
      "32 Total Spectra found\n",
      "0 flagged spectra removed 32 spectra left\n",
      "0 spectra of peculiar Ias removed 32 spectra left\n",
      "30 spectra of SNe with that have host reddening corrections\n",
      "Arrays cleaned\n",
      "0 spectra may have telluric contamination\n",
      "15 total SNe\n",
      "removed spectra of SNe with A_V > 2.0\n",
      "\n",
      "Using 30 spectra of 15 SNe\n",
      "Gini balancing...\n",
      "Balanced after 7 iterations\n",
      "Bootstrapping\n",
      "scaling boots...\n",
      "computing confidence intervals...\n",
      "SQL Query: SELECT * from Spectra inner join Events ON Spectra.SN = Events.SN where phase >= 26 and phase <= 34 and ((dm15_source >= 1.5 or dm15_from_fits >= 1.5))\n",
      "Collecting data...\n",
      "../data/kaepora_v1.db\n",
      "43 Total Spectra found\n",
      "0 flagged spectra removed 43 spectra left\n",
      "4 spectra of peculiar Ias removed 39 spectra left\n",
      "35 spectra of SNe with that have host reddening corrections\n",
      "Arrays cleaned\n",
      "0 spectra may have telluric contamination\n",
      "21 total SNe\n",
      "removed spectra of SNe with A_V > 2.0\n",
      "\n",
      "Using 35 spectra of 21 SNe\n",
      "Gini balancing...\n",
      "Balanced after 9 iterations\n",
      "Bootstrapping\n",
      "scaling boots...\n",
      "computing confidence intervals...\n"
     ]
    }
   ],
   "source": [
    "comps_dm15_p1month, sn_arrays, boot_arrays = query_db.main(len(query_dm15_p1month), query_dm15_p1month, boot=True,medmean=1, verbose=False, gini_balance=True)"
   ]
  },
  {
   "cell_type": "code",
   "execution_count": 26,
   "metadata": {},
   "outputs": [],
   "source": [
    "composite.optimize_scales(comps_dm15_p1month, comps_dm15_p1month[0], True)\n",
    "query_db.set_min_num_spec(comps_dm15_p1month, 5)\n",
    "# comparison_plot(comps_dm15_p1month)\n",
    "# stacked_plot_max(comps_dm15_p1month,5,1)"
   ]
  },
  {
   "cell_type": "markdown",
   "metadata": {},
   "source": [
    "# +2 Months"
   ]
  },
  {
   "cell_type": "code",
   "execution_count": 27,
   "metadata": {
    "collapsed": true
   },
   "outputs": [],
   "source": [
    "query_dm15_p2month = [\"SELECT * from Spectra inner join Events ON Spectra.SN = Events.SN where phase >= 56 and phase <= 64 and ((dm15_source < 1. or dm15_from_fits < 1.))\",\n",
    "                         \"SELECT * from Spectra inner join Events ON Spectra.SN = Events.SN where phase >= 56 and phase <= 64 and ((dm15_source >= 1. and dm15_source < 1.15) or (dm15_from_fits >= 1. and dm15_from_fits < 1.15))\",\n",
    "                         \"SELECT * from Spectra inner join Events ON Spectra.SN = Events.SN where phase >= 56 and phase <= 64 and ((dm15_source >= 1.15 and dm15_source < 1.35) or (dm15_from_fits >= 1.15 and dm15_from_fits < 1.35))\",\n",
    "                         \"SELECT * from Spectra inner join Events ON Spectra.SN = Events.SN where phase >= 56 and phase <= 64 and ((dm15_source >= 1.35 or dm15_from_fits >= 1.35))\"]"
   ]
  },
  {
   "cell_type": "code",
   "execution_count": 28,
   "metadata": {
    "scrolled": true
   },
   "outputs": [
    {
     "name": "stdout",
     "output_type": "stream",
     "text": [
      "SQL Query: SELECT * from Spectra inner join Events ON Spectra.SN = Events.SN where phase >= 56 and phase <= 64 and ((dm15_source < 1. or dm15_from_fits < 1.))\n",
      "Collecting data...\n",
      "../data/kaepora_v1.db\n",
      "26 Total Spectra found\n",
      "0 flagged spectra removed 26 spectra left\n",
      "2 spectra of peculiar Ias removed 24 spectra left\n",
      "24 spectra of SNe with that have host reddening corrections\n",
      "Arrays cleaned\n",
      "0 spectra may have telluric contamination\n",
      "14 total SNe\n",
      "removed spectra of SNe with A_V > 2.0\n",
      "\n",
      "Using 24 spectra of 14 SNe\n",
      "Gini balancing...\n",
      "Balanced after 6 iterations\n",
      "Bootstrapping\n",
      "scaling boots...\n",
      "computing confidence intervals...\n",
      "SQL Query: SELECT * from Spectra inner join Events ON Spectra.SN = Events.SN where phase >= 56 and phase <= 64 and ((dm15_source >= 1. and dm15_source < 1.15) or (dm15_from_fits >= 1. and dm15_from_fits < 1.15))\n",
      "Collecting data...\n",
      "../data/kaepora_v1.db\n",
      "37 Total Spectra found\n",
      "0 flagged spectra removed 37 spectra left\n",
      "0 spectra of peculiar Ias removed 37 spectra left\n",
      "35 spectra of SNe with that have host reddening corrections\n",
      "Arrays cleaned\n",
      "1 spectra may have telluric contamination\n",
      "19 total SNe\n",
      "removed spectra of SNe with A_V > 2.0\n",
      "\n",
      "Using 35 spectra of 19 SNe\n",
      "Gini balancing...\n",
      "Balanced after 11 iterations\n",
      "Bootstrapping\n",
      "scaling boots...\n",
      "computing confidence intervals...\n",
      "SQL Query: SELECT * from Spectra inner join Events ON Spectra.SN = Events.SN where phase >= 56 and phase <= 64 and ((dm15_source >= 1.15 and dm15_source < 1.35) or (dm15_from_fits >= 1.15 and dm15_from_fits < 1.35))\n",
      "Collecting data...\n",
      "../data/kaepora_v1.db\n",
      "24 Total Spectra found\n",
      "3 flagged spectra removed 21 spectra left\n",
      "0 spectra of peculiar Ias removed 21 spectra left\n",
      "19 spectra of SNe with that have host reddening corrections\n",
      "Arrays cleaned\n",
      "0 spectra may have telluric contamination\n",
      "12 total SNe\n",
      "removed spectra of SNe with A_V > 2.0\n",
      "\n",
      "Using 13 spectra of 11 SNe\n",
      "Gini balancing...\n",
      "Balanced after 2 iterations\n",
      "Bootstrapping\n",
      "scaling boots...\n",
      "computing confidence intervals...\n",
      "SQL Query: SELECT * from Spectra inner join Events ON Spectra.SN = Events.SN where phase >= 56 and phase <= 64 and ((dm15_source >= 1.35 or dm15_from_fits >= 1.35))\n",
      "Collecting data...\n",
      "../data/kaepora_v1.db\n",
      "14 Total Spectra found\n",
      "0 flagged spectra removed 14 spectra left\n",
      "1 spectra of peculiar Ias removed 13 spectra left\n",
      "12 spectra of SNe with that have host reddening corrections\n",
      "Arrays cleaned\n",
      "0 spectra may have telluric contamination\n",
      "10 total SNe\n",
      "removed spectra of SNe with A_V > 2.0\n",
      "\n",
      "Using 12 spectra of 10 SNe\n",
      "Gini balancing...\n",
      "Balanced after 3 iterations\n",
      "Bootstrapping\n",
      "scaling boots...\n",
      "computing confidence intervals...\n"
     ]
    }
   ],
   "source": [
    "comps_dm15_p2month, sn_arrays, boot_arrays = query_db.main(len(query_dm15_p2month), query_dm15_p2month, boot=True,medmean=1, verbose=False, gini_balance=True)"
   ]
  },
  {
   "cell_type": "code",
   "execution_count": 29,
   "metadata": {},
   "outputs": [],
   "source": [
    "composite.optimize_scales(comps_dm15_p2month, comps_dm15_p2month[0], True)\n",
    "query_db.set_min_num_spec(comps_dm15_p2month, 5)\n",
    "# comparison_plot(comps_dm15_p2month)\n",
    "# stacked_plot_max(comps_dm15_p2month,5,1)"
   ]
  },
  {
   "cell_type": "markdown",
   "metadata": {},
   "source": [
    "# +1 Year"
   ]
  },
  {
   "cell_type": "code",
   "execution_count": 30,
   "metadata": {
    "collapsed": true
   },
   "outputs": [],
   "source": [
    "query_dm15_plong = [\"SELECT * from Spectra inner join Events ON Spectra.SN = Events.SN where phase >= 180 and ((dm15_source < 1.2 or dm15_from_fits < 1.2))\",\n",
    "                         \"SELECT * from Spectra inner join Events ON Spectra.SN = Events.SN where phase >= 180 and ((dm15_source >= 1.2 and dm15_source < 1.8) or (dm15_from_fits >= 1.2 and dm15_from_fits < 1.8))\"]"
   ]
  },
  {
   "cell_type": "code",
   "execution_count": 31,
   "metadata": {
    "scrolled": true
   },
   "outputs": [
    {
     "name": "stdout",
     "output_type": "stream",
     "text": [
      "SQL Query: SELECT * from Spectra inner join Events ON Spectra.SN = Events.SN where phase >= 180 and ((dm15_source < 1.2 or dm15_from_fits < 1.2))\n",
      "Collecting data...\n",
      "../data/kaepora_v1.db\n",
      "47 Total Spectra found\n",
      "0 flagged spectra removed 47 spectra left\n",
      "2 spectra of peculiar Ias removed 45 spectra left\n",
      "45 spectra of SNe with that have host reddening corrections\n",
      "Arrays cleaned\n",
      "0 spectra may have telluric contamination\n",
      "16 total SNe\n",
      "removed spectra of SNe with A_V > 2.0\n",
      "\n",
      "Using 41 spectra of 14 SNe\n",
      "Gini balancing...\n",
      "Balanced after 49 iterations\n",
      "Bootstrapping\n",
      "scaling boots...\n",
      "computing confidence intervals...\n",
      "SQL Query: SELECT * from Spectra inner join Events ON Spectra.SN = Events.SN where phase >= 180 and ((dm15_source >= 1.2 and dm15_source < 1.8) or (dm15_from_fits >= 1.2 and dm15_from_fits < 1.8))\n",
      "Collecting data...\n",
      "../data/kaepora_v1.db\n",
      "21 Total Spectra found\n",
      "1 flagged spectra removed 20 spectra left\n",
      "7 spectra of peculiar Ias removed 13 spectra left\n",
      "9 spectra of SNe with that have host reddening corrections\n",
      "Arrays cleaned\n",
      "0 spectra may have telluric contamination\n",
      "7 total SNe\n",
      "removed spectra of SNe with A_V > 2.0\n",
      "\n",
      "Using 8 spectra of 6 SNe\n",
      "Gini balancing...\n",
      "Balanced after 2 iterations\n",
      "Bootstrapping\n",
      "scaling boots...\n",
      "computing confidence intervals...\n"
     ]
    }
   ],
   "source": [
    "comps_dm15_plong, sn_arrays, boot_arrays = query_db.main(len(query_dm15_plong), query_dm15_plong, boot=True,medmean=1, verbose=False, gini_balance=True)"
   ]
  },
  {
   "cell_type": "code",
   "execution_count": 36,
   "metadata": {},
   "outputs": [],
   "source": [
    "composite.optimize_scales(comps_dm15_plong, comps_dm15_plong[0], True)\n",
    "query_db.set_min_num_spec(comps_dm15_plong, 5)\n",
    "# comparison_plot(comps_dm15_plong)\n",
    "# stacked_plot_max(comps_dm15_plong,20,1)"
   ]
  },
  {
   "cell_type": "code",
   "execution_count": 37,
   "metadata": {},
   "outputs": [],
   "source": [
    "#normalize to first comp\n",
    "comps_dm15_very_early = query_db.normalize_comps(comps_dm15_very_early, scale=10.)\n",
    "comps_dm15_m1week = query_db.normalize_comps(comps_dm15_m1week, scale=10.)\n",
    "comps_dm15_max_fewer_bins = query_db.normalize_comps(comps_dm15_max_fewer_bins, scale=10.)\n",
    "comps_dm15_p1week = query_db.normalize_comps(comps_dm15_p1week, scale=10.)\n",
    "comps_dm15_p2week = query_db.normalize_comps(comps_dm15_p2week, scale=10.)\n",
    "comps_dm15_p1month = query_db.normalize_comps(comps_dm15_p1month, scale=10.)\n",
    "comps_dm15_p2month = query_db.normalize_comps(comps_dm15_p2month, scale=10.)\n",
    "comps_dm15_plong = query_db.normalize_comps(comps_dm15_plong, scale=10.)"
   ]
  },
  {
   "cell_type": "code",
   "execution_count": 34,
   "metadata": {},
   "outputs": [],
   "source": [
    "# composite.optimize_scales(comps_dm15_very_early, comps_dm15_very_early[0], True)\n",
    "# composite.optimize_scales(comps_dm15_m1week, comps_dm15_m1week[0], True)\n",
    "# composite.optimize_scales(comps_dm15_max_fewer_bins, comps_dm15_max_fewer_bins[0], True)\n",
    "# composite.optimize_scales(comps_dm15_p1week, comps_dm15_p1week[0], True)\n",
    "# composite.optimize_scales(comps_dm15_p2week, comps_dm15_p2week[0], True)\n",
    "# composite.optimize_scales(comps_dm15_p1month, comps_dm15_p1month[0], True)\n",
    "# composite.optimize_scales(comps_dm15_p2month, comps_dm15_p2month[0], True)\n",
    "# composite.optimize_scales(comps_dm15_plong, comps_dm15_plong[0], True)"
   ]
  },
  {
   "cell_type": "code",
   "execution_count": 38,
   "metadata": {
    "scrolled": true
   },
   "outputs": [
    {
     "name": "stdout",
     "output_type": "stream",
     "text": [
      "-11.16 0.87 0.012\n",
      "../data/S19_Composite_Spectra/siebert_grid_N=13_Nspec=19_phase=m11.16_dm15=0.87_z=0.012.txt\n",
      "-11.04 1.05 0.01\n",
      "../data/S19_Composite_Spectra/siebert_grid_N=12_Nspec=28_phase=m11.04_dm15=1.05_z=0.01.txt\n",
      "-11.39 1.2 0.01\n",
      "../data/S19_Composite_Spectra/siebert_grid_N=10_Nspec=36_phase=m11.39_dm15=1.2_z=0.01.txt\n",
      "-7.19 0.86 0.023\n",
      "../data/S19_Composite_Spectra/siebert_grid_N=24_Nspec=67_phase=m7.19_dm15=0.86_z=0.023.txt\n",
      "-6.73 1.06 0.013\n",
      "../data/S19_Composite_Spectra/siebert_grid_N=37_Nspec=90_phase=m6.73_dm15=1.06_z=0.013.txt\n",
      "-7.1 1.2 0.013\n",
      "../data/S19_Composite_Spectra/siebert_grid_N=9_Nspec=22_phase=m7.1_dm15=1.2_z=0.013.txt\n",
      "-6.46 1.35 0.015\n",
      "../data/S19_Composite_Spectra/siebert_grid_N=15_Nspec=49_phase=m6.46_dm15=1.35_z=0.015.txt\n",
      "-6.21 1.74 0.015\n",
      "../data/S19_Composite_Spectra/siebert_grid_N=9_Nspec=19_phase=m6.21_dm15=1.74_z=0.015.txt\n",
      "0.22 0.87 0.017\n",
      "../data/S19_Composite_Spectra/siebert_grid_N=30_Nspec=81_phase=p0.22_dm15=0.87_z=0.017.txt\n",
      "0.37 1.06 0.013\n",
      "../data/S19_Composite_Spectra/siebert_grid_N=61_Nspec=157_phase=p0.37_dm15=1.06_z=0.013.txt\n",
      "0.4 1.2 0.017\n",
      "../data/S19_Composite_Spectra/siebert_grid_N=16_Nspec=48_phase=p0.4_dm15=1.2_z=0.017.txt\n",
      "0.53 1.34 0.018\n",
      "../data/S19_Composite_Spectra/siebert_grid_N=29_Nspec=89_phase=p0.53_dm15=1.34_z=0.018.txt\n",
      "-0.06 1.7 0.013\n",
      "../data/S19_Composite_Spectra/siebert_grid_N=28_Nspec=77_phase=m0.06_dm15=1.7_z=0.013.txt\n",
      "7.12 0.89 0.014\n",
      "../data/S19_Composite_Spectra/siebert_grid_N=28_Nspec=57_phase=p7.12_dm15=0.89_z=0.014.txt\n",
      "6.92 1.06 0.013\n",
      "../data/S19_Composite_Spectra/siebert_grid_N=49_Nspec=87_phase=p6.92_dm15=1.06_z=0.013.txt\n",
      "7.33 1.2 0.017\n",
      "../data/S19_Composite_Spectra/siebert_grid_N=16_Nspec=30_phase=p7.33_dm15=1.2_z=0.017.txt\n",
      "7.26 1.34 0.018\n",
      "../data/S19_Composite_Spectra/siebert_grid_N=27_Nspec=60_phase=p7.26_dm15=1.34_z=0.018.txt\n",
      "6.75 1.75 0.014\n",
      "../data/S19_Composite_Spectra/siebert_grid_N=18_Nspec=36_phase=p6.75_dm15=1.75_z=0.014.txt\n",
      "13.81 0.9 0.012\n",
      "../data/S19_Composite_Spectra/siebert_grid_N=27_Nspec=52_phase=p13.81_dm15=0.9_z=0.012.txt\n",
      "13.87 1.08 0.011\n",
      "../data/S19_Composite_Spectra/siebert_grid_N=42_Nspec=69_phase=p13.87_dm15=1.08_z=0.011.txt\n",
      "14.15 1.21 0.021\n",
      "../data/S19_Composite_Spectra/siebert_grid_N=22_Nspec=34_phase=p14.15_dm15=1.21_z=0.021.txt\n",
      "13.72 1.38 0.015\n",
      "../data/S19_Composite_Spectra/siebert_grid_N=20_Nspec=36_phase=p13.72_dm15=1.38_z=0.015.txt\n",
      "13.85 1.7 0.02\n",
      "../data/S19_Composite_Spectra/siebert_grid_N=16_Nspec=35_phase=p13.85_dm15=1.7_z=0.02.txt\n",
      "30.59 0.85 0.018\n",
      "../data/S19_Composite_Spectra/siebert_grid_N=18_Nspec=44_phase=p30.59_dm15=0.85_z=0.018.txt\n",
      "29.84 1.03 0.015\n",
      "../data/S19_Composite_Spectra/siebert_grid_N=39_Nspec=68_phase=p29.84_dm15=1.03_z=0.015.txt\n",
      "29.28 1.19 0.015\n",
      "../data/S19_Composite_Spectra/siebert_grid_N=43_Nspec=76_phase=p29.28_dm15=1.19_z=0.015.txt\n",
      "30.0 1.36 0.016\n",
      "../data/S19_Composite_Spectra/siebert_grid_N=15_Nspec=30_phase=p30.0_dm15=1.36_z=0.016.txt\n",
      "28.97 1.68 0.013\n",
      "../data/S19_Composite_Spectra/siebert_grid_N=21_Nspec=35_phase=p28.97_dm15=1.68_z=0.013.txt\n",
      "59.83 0.91 0.013\n",
      "../data/S19_Composite_Spectra/siebert_grid_N=14_Nspec=24_phase=p59.83_dm15=0.91_z=0.013.txt\n",
      "59.37 1.07 0.008\n",
      "../data/S19_Composite_Spectra/siebert_grid_N=19_Nspec=35_phase=p59.37_dm15=1.07_z=0.008.txt\n",
      "59.38 1.23 0.012\n",
      "../data/S19_Composite_Spectra/siebert_grid_N=11_Nspec=13_phase=p59.38_dm15=1.23_z=0.012.txt\n",
      "59.32 1.53 0.01\n",
      "../data/S19_Composite_Spectra/siebert_grid_N=10_Nspec=12_phase=p59.32_dm15=1.53_z=0.01.txt\n",
      "266.33 1.0 0.006\n",
      "../data/S19_Composite_Spectra/siebert_grid_N=14_Nspec=41_phase=p266.33_dm15=1.0_z=0.006.txt\n",
      "299.06 1.37 0.007\n",
      "../data/S19_Composite_Spectra/siebert_grid_N=6_Nspec=8_phase=p299.06_dm15=1.37_z=0.007.txt\n"
     ]
    }
   ],
   "source": [
    "query_db.save_comps_to_files(comps_dm15_very_early, 'siebert_grid')\n",
    "query_db.save_comps_to_files(comps_dm15_m1week, 'siebert_grid')\n",
    "query_db.save_comps_to_files(comps_dm15_max_fewer_bins, 'siebert_grid')\n",
    "query_db.save_comps_to_files(comps_dm15_p1week, 'siebert_grid')\n",
    "query_db.save_comps_to_files(comps_dm15_p2week, 'siebert_grid')\n",
    "query_db.save_comps_to_files(comps_dm15_p1month, 'siebert_grid')\n",
    "query_db.save_comps_to_files(comps_dm15_p2month, 'siebert_grid')\n",
    "query_db.save_comps_to_files(comps_dm15_plong, 'siebert_grid')"
   ]
  },
  {
   "cell_type": "code",
   "execution_count": 41,
   "metadata": {
    "collapsed": true
   },
   "outputs": [],
   "source": [
    "query_db.set_min_num_spec(comps_dm15_very_early, 5)\n",
    "query_db.set_min_num_spec(comps_dm15_m1week, 5)\n",
    "query_db.set_min_num_spec(comps_dm15_max_fewer_bins, 5)\n",
    "query_db.set_min_num_spec(comps_dm15_p1week, 5)\n",
    "query_db.set_min_num_spec(comps_dm15_p2week, 5)\n",
    "query_db.set_min_num_spec(comps_dm15_p1month, 5)\n",
    "query_db.set_min_num_spec(comps_dm15_p2month, 5)\n",
    "query_db.set_min_num_spec(comps_dm15_plong, 4)"
   ]
  },
  {
   "cell_type": "code",
   "execution_count": 42,
   "metadata": {},
   "outputs": [],
   "source": [
    "f, axarr = plt.subplots(8, 5, figsize=[30,20], sharex = True, sharey = True)\n",
    "plt.rc('font', family='serif')\n",
    "f.text(0.51, 0.06, 'Rest Wavelength ($\\mathrm{\\AA}$)', ha='center', fontsize=30)\n",
    "f.text(0.1, 0.5, 'Relative Flux', va='center', rotation='vertical', fontsize=30)\n",
    "axarr[0, 0].set_title('$\\Delta m_{15} < 0.95$', fontsize=25)\n",
    "axarr[0, 1].set_title('$0.95 < \\Delta m_{15} < 1.15$', fontsize=25)\n",
    "axarr[0, 2].set_title('$1.15 < \\Delta m_{15} < 1.25$',fontsize=25)\n",
    "axarr[0, 3].set_title('$1.25 < \\Delta m_{15} < 1.50$', fontsize=25)\n",
    "axarr[0, 4].set_title('$\\Delta m_{15} > 1.50$', fontsize=25)\n",
    "\n",
    "axarr[0, 4].yaxis.set_label_position(\"right\")\n",
    "axarr[1, 4].yaxis.set_label_position(\"right\")\n",
    "axarr[2, 4].yaxis.set_label_position(\"right\")\n",
    "axarr[3, 4].yaxis.set_label_position(\"right\")\n",
    "axarr[4, 4].yaxis.set_label_position(\"right\")\n",
    "axarr[5, 4].yaxis.set_label_position(\"right\")\n",
    "axarr[6, 4].yaxis.set_label_position(\"right\")\n",
    "axarr[7, 4].yaxis.set_label_position(\"right\")\n",
    "axarr[0, 4].set_ylabel(r'$\\tau$$ < -10$', fontsize=16)\n",
    "axarr[1, 4].set_ylabel(r'$-9 < $$\\tau$$ < -5$', fontsize=16)\n",
    "axarr[2, 4].set_ylabel(r'$-3 < $$\\tau$$ < +3$',fontsize=16)\n",
    "axarr[3, 4].set_ylabel(r'$+5 < $$\\tau$$ < +9$', fontsize=16)\n",
    "axarr[4, 4].set_ylabel(r'$+12 < $$\\tau$$ < +16$', fontsize=16)\n",
    "axarr[5, 4].set_ylabel(r'$+26 < $$\\tau$$ < +34$', fontsize=16)\n",
    "axarr[6, 4].set_ylabel(r'$+56 < $$\\tau$$ < +64$', fontsize=16)\n",
    "axarr[7, 4].set_ylabel(r'$\\tau$$ > +180$', fontsize=16)\n",
    "i = 0\n",
    "for comp in comps_dm15_very_early:\n",
    "    dm15 = np.round(np.average(comp.dm15_array[comp.x1:comp.x2]),2)\n",
    "#     axarr[0, i].text(9700, .7, dm15)\n",
    "    axarr[0, i].plot(comp.wavelength[comp.x1:comp.x2], comp.flux[comp.x1:comp.x2], color = '#3F5D7D')\n",
    "#     axarr[0, i].fill_between(comp.wavelength[comp.x1:comp.x2], \n",
    "#                              comp.low_conf[comp.x1:comp.x2], \n",
    "#                              comp.up_conf[comp.x1:comp.x2], alpha = 0.5)\n",
    "    axarr[0, i].text(8000,  6, \"$N = $ \" + str(comp.num_sne), fontsize=18)\n",
    "    i+=1\n",
    "    \n",
    "i = 0\n",
    "for comp in comps_dm15_m1week:\n",
    "    dm15 = np.round(np.average(comp.dm15_array[comp.x1:comp.x2]),2)\n",
    "#     axarr[1, i].text(9700, .7, dm15)\n",
    "    axarr[1, i].plot(comp.wavelength[comp.x1:comp.x2], comp.flux[comp.x1:comp.x2], color = '#3F5D7D')\n",
    "#     axarr[1, i].fill_between(comp.wavelength[comp.x1:comp.x2], \n",
    "#                              comp.low_conf[comp.x1:comp.x2], \n",
    "#                              comp.up_conf[comp.x1:comp.x2], alpha = 0.5)\n",
    "    axarr[1, i].text(8000,  6, \"N = \" + str(comp.num_sne), fontsize=18)\n",
    "    i+=1\n",
    "    \n",
    "i = 0\n",
    "for comp in comps_dm15_max_fewer_bins:\n",
    "    dm15 = np.round(np.average(comp.dm15_array[comp.x1:comp.x2]),2)\n",
    "#     axarr[2, i].text(9700, .7, dm15)\n",
    "    axarr[2, i].plot(comp.wavelength[comp.x1:comp.x2], comp.flux[comp.x1:comp.x2], color = '#3F5D7D')\n",
    "#     axarr[2, i].fill_between(comp.wavelength[comp.x1:comp.x2], \n",
    "#                              comp.low_conf[comp.x1:comp.x2], \n",
    "#                              comp.up_conf[comp.x1:comp.x2], alpha = 0.5)\n",
    "    axarr[2, i].text(8000,  6, \"N = \" + str(comp.num_sne), fontsize=18)\n",
    "    i+=1\n",
    "\n",
    "i = 0\n",
    "for comp in comps_dm15_p1week:\n",
    "    dm15 = np.round(np.average(comp.dm15_array[comp.x1:comp.x2]),2)\n",
    "#     axarr[3, i].text(9700, .7, dm15)\n",
    "    axarr[3, i].plot(comp.wavelength[comp.x1:comp.x2], comp.flux[comp.x1:comp.x2], color = '#3F5D7D')\n",
    "#     axarr[3, i].fill_between(comp.wavelength[comp.x1:comp.x2], \n",
    "#                              comp.low_conf[comp.x1:comp.x2], \n",
    "#                              comp.up_conf[comp.x1:comp.x2], alpha = 0.5)\n",
    "    axarr[3, i].text(8000,  6, \"N = \" + str(comp.num_sne), fontsize=18)\n",
    "    i+=1\n",
    "\n",
    "i = 0\n",
    "for comp in comps_dm15_p2week:\n",
    "    dm15 = np.round(np.average(comp.dm15_array[comp.x1:comp.x2]),2)\n",
    "#     axarr[4, i].text(9700, .7, dm15)\n",
    "    axarr[4, i].plot(comp.wavelength[comp.x1:comp.x2], comp.flux[comp.x1:comp.x2], color = '#3F5D7D')\n",
    "#     axarr[4, i].fill_between(comp.wavelength[comp.x1:comp.x2], \n",
    "#                              comp.low_conf[comp.x1:comp.x2], \n",
    "#                              comp.up_conf[comp.x1:comp.x2], alpha = 0.5)\n",
    "    axarr[4, i].text(8000,  6, \"N = \" + str(comp.num_sne), fontsize=18)\n",
    "    i+=1\n",
    "    \n",
    "i = 0\n",
    "for comp in comps_dm15_p1month:\n",
    "    dm15 = np.round(np.average(comp.dm15_array[comp.x1:comp.x2]),2)\n",
    "#     axarr[5, i].text(9700, .7, dm15)\n",
    "    axarr[5, i].plot(comp.wavelength[comp.x1:comp.x2], comp.flux[comp.x1:comp.x2], color = '#3F5D7D')\n",
    "#     axarr[5, i].fill_between(comp.wavelength[comp.x1:comp.x2], \n",
    "#                              comp.low_conf[comp.x1:comp.x2], \n",
    "#                              comp.up_conf[comp.x1:comp.x2], alpha = 0.5)\n",
    "    axarr[5, i].text(8000,  6, \"N = \" + str(comp.num_sne), fontsize=18)\n",
    "    i+=1\n",
    "\n",
    "i = 0\n",
    "for comp in comps_dm15_p2month:\n",
    "    dm15 = np.round(np.average(comp.dm15_array[comp.x1:comp.x2]),2)\n",
    "#     axarr[6, i].text(9700, .7, dm15)\n",
    "    axarr[6, i].plot(comp.wavelength[comp.x1:comp.x2], comp.flux[comp.x1:comp.x2], color = '#3F5D7D')\n",
    "#     axarr[6, i].fill_between(comp.wavelength[comp.x1:comp.x2], \n",
    "#                              comp.low_conf[comp.x1:comp.x2], \n",
    "#                              comp.up_conf[comp.x1:comp.x2], alpha = 0.5)\n",
    "    axarr[6, i].text(8000,  6, \"N = \" + str(comp.num_sne), fontsize=18)\n",
    "    i+=1\n",
    "\n",
    "dm15 = np.round(np.average(comps_dm15_plong[0].dm15_array[comps_dm15_plong[0].x1:comps_dm15_plong[0].x2]),2)\n",
    "# axarr[7, 1].text(9700, .7, dm15)\n",
    "axarr[7, 1].plot(comps_dm15_plong[0].wavelength[comps_dm15_plong[0].x1:comps_dm15_plong[0].x2], \n",
    "                 comps_dm15_plong[0].flux[comps_dm15_plong[0].x1:comps_dm15_plong[0].x2], color = '#3F5D7D')\n",
    "# axarr[7, 1].fill_between(comps_dm15_plong[0].wavelength[comps_dm15_plong[0].x1:comps_dm15_plong[0].x2], \n",
    "#                          comps_dm15_plong[0].low_conf[comps_dm15_plong[0].x1:comps_dm15_plong[0].x2], \n",
    "#                          comps_dm15_plong[0].up_conf[comps_dm15_plong[0].x1:comps_dm15_plong[0].x2], alpha = 0.5)\n",
    "axarr[7, 1].text(8000,  6, \"N = \" + str(comp.num_sne), fontsize=18)\n",
    "\n",
    "dm15 = np.round(np.average(comps_dm15_plong[1].dm15_array[comps_dm15_plong[1].x1:comps_dm15_plong[1].x2]),2)\n",
    "# axarr[7, 2].text(9700, .7, dm15)\n",
    "axarr[7, 3].plot(comps_dm15_plong[1].wavelength[comps_dm15_plong[1].x1:comps_dm15_plong[1].x2], \n",
    "                 comps_dm15_plong[1].flux[comps_dm15_plong[1].x1:comps_dm15_plong[1].x2], color = '#3F5D7D')\n",
    "# axarr[7, 2].fill_between(comps_dm15_plong[1].wavelength[comps_dm15_plong[1].x1:comps_dm15_plong[1].x2], \n",
    "#                          comps_dm15_plong[1].low_conf[comps_dm15_plong[1].x1:comps_dm15_plong[1].x2], \n",
    "#                          comps_dm15_plong[1].up_conf[comps_dm15_plong[1].x1:comps_dm15_plong[1].x2], alpha = 0.5)\n",
    "axarr[7, 3].text(8000,  6, \"N = \" + str(comp.num_sne), fontsize=18)\n",
    "\n",
    "f.subplots_adjust(hspace=0, wspace=0)\n",
    "plt.setp([a.get_xticklabels() for a in f.axes[:-5]], visible=False)\n",
    "need_label = [29,31,32,33]\n",
    "for i in range(len(f.axes)):\n",
    "    f.axes[i].set_ylim([-.1*10,1.1*10])\n",
    "    f.axes[i].set_xlim([3000,11000])\n",
    "    f.axes[i].minorticks_on()\n",
    "    # ax.xaxis.set_ticks(np.arange(np.round(old_wave[0],-3),np.round(old_wave[-1],-3),1000))\n",
    "    f.axes[i].tick_params(\n",
    "        which='major', \n",
    "        bottom='on', \n",
    "        top='on',\n",
    "        left='on',\n",
    "        right='on',\n",
    "        length=10)\n",
    "    f.axes[i].tick_params(\n",
    "        which='minor', \n",
    "        bottom='on', \n",
    "        top='on',\n",
    "        left='on',\n",
    "        right='on',\n",
    "        length=5)\n",
    "#     if i%5 != 0 and i not in need_label:\n",
    "#         pip plt.setp(f.axes[i].get_yticklabels(), visible=False)\n",
    "    f.axes[i].xaxis.set_ticks(np.arange(4000,11000,1000))\n",
    "# f.delaxes(axarr[0, 3])\n",
    "# f.delaxes(axarr[0, 4])\n",
    "# f.delaxes(axarr[6, 4])\n",
    "# f.delaxes(axarr[7, 1])\n",
    "# f.delaxes(axarr[7, 2])\n",
    "# f.delaxes(axarr[7, 3])\n",
    "plt.savefig('../../../Paper_Drafts/main_composites_updated/dm15_grid.pdf', dpi =100, bbox_inches = 'tight')\n",
    "plt.savefig('../../../Paper_Drafts/plot_images/dm15_grid.png', dpi =100, bbox_inches = 'tight')\n",
    "plt.show()"
   ]
  },
  {
   "cell_type": "code",
   "execution_count": null,
   "metadata": {
    "collapsed": true
   },
   "outputs": [],
   "source": [
    "import spectral_analysis as sa\n",
    "plt.cla()"
   ]
  },
  {
   "cell_type": "code",
   "execution_count": null,
   "metadata": {
    "collapsed": true
   },
   "outputs": [],
   "source": [
    "all_comps = []\n",
    "all_comps.append(comps_dm15_very_early)\n",
    "all_comps.append(comps_dm15_max_fewer_bins)\n",
    "all_comps.append(comps_dm15_p1week)\n",
    "all_comps.append(comps_dm15_p2week)\n",
    "all_comps.append(comps_dm15_p1month)"
   ]
  },
  {
   "cell_type": "code",
   "execution_count": null,
   "metadata": {},
   "outputs": [],
   "source": [
    "all_vels = []\n",
    "all_phases = []\n",
    "for epoch in all_comps:\n",
    "    velocities = []\n",
    "    phases = []\n",
    "    for comp in epoch:\n",
    "        p = np.average(comp.phase_array[comp.x1:comp.x2])\n",
    "        v = -1.*sa.measure_si_velocity(comp)/1000.\n",
    "        velocities.append(v)\n",
    "        phases.append(p)\n",
    "    all_vels.append(velocities)\n",
    "    all_phases.append(phases)"
   ]
  },
  {
   "cell_type": "code",
   "execution_count": null,
   "metadata": {},
   "outputs": [],
   "source": [
    "for i in range (len(all_vels)):\n",
    "    plt.plot(all_phases[i], all_vels[i], 'o')\n",
    "plt.gca().invert_yaxis()\n",
    "plt.show()"
   ]
  },
  {
   "cell_type": "code",
   "execution_count": null,
   "metadata": {
    "collapsed": true
   },
   "outputs": [],
   "source": []
  }
 ],
 "metadata": {
  "anaconda-cloud": {},
  "kernelspec": {
   "display_name": "Python 3 (ipykernel)",
   "language": "python",
   "name": "python3"
  },
  "language_info": {
   "codemirror_mode": {
    "name": "ipython",
    "version": 3
   },
   "file_extension": ".py",
   "mimetype": "text/x-python",
   "name": "python",
   "nbconvert_exporter": "python",
   "pygments_lexer": "ipython3",
   "version": "3.10.6"
  },
  "toc": {
   "base_numbering": 1,
   "nav_menu": {},
   "number_sections": true,
   "sideBar": true,
   "skip_h1_title": false,
   "title_cell": "Table of Contents",
   "title_sidebar": "Contents",
   "toc_cell": false,
   "toc_position": {},
   "toc_section_display": true,
   "toc_window_display": false
  }
 },
 "nbformat": 4,
 "nbformat_minor": 1
}
